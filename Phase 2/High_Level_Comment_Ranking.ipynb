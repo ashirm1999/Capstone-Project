{
  "cells": [
    {
      "cell_type": "markdown",
      "metadata": {
        "id": "SVQ_9dufdT-A"
      },
      "source": [
        "### Ranking Comments\n",
        "\n",
        "Ranking the comments using this model by taking the sum of toxicity score across all the 6 classes. "
      ]
    },
    {
      "cell_type": "code",
      "execution_count": null,
      "metadata": {
        "id": "SuY02mplBrDy"
      },
      "outputs": [],
      "source": [
        "!pip install transformers==2.3.0"
      ]
    },
    {
      "cell_type": "code",
      "execution_count": 5,
      "metadata": {
        "id": "aGa2jmNmCjXf"
      },
      "outputs": [],
      "source": [
        "# from tqdm.notebook import tqdm\n",
        "import numpy as np\n",
        "import pandas as pd\n",
        "import tensorflow as tf\n",
        "from tqdm.notebook import tqdm\n",
        "import os\n",
        "from sklearn.metrics import accuracy_score\n",
        "from sklearn.metrics import precision_score\n",
        "from sklearn.metrics import recall_score\n",
        "from sklearn.metrics import f1_score\n",
        "from sklearn.metrics import roc_auc_score\n",
        "from sklearn.metrics import classification_report"
      ]
    },
    {
      "cell_type": "code",
      "execution_count": 6,
      "metadata": {
        "colab": {
          "base_uri": "https://localhost:8080/"
        },
        "id": "_ScqAyycdnU0",
        "outputId": "6846e365-9660-4e1d-9d8d-7550a288202d"
      },
      "outputs": [
        {
          "output_type": "stream",
          "name": "stdout",
          "text": [
            "Drive already mounted at /content/drive; to attempt to forcibly remount, call drive.mount(\"/content/drive\", force_remount=True).\n"
          ]
        }
      ],
      "source": [
        "from google.colab import drive\n",
        "drive.mount('/content/drive')"
      ]
    },
    {
      "cell_type": "markdown",
      "metadata": {
        "id": "vETsesAydT-G"
      },
      "source": [
        "#### Loading the data"
      ]
    },
    {
      "cell_type": "code",
      "execution_count": 7,
      "metadata": {
        "id": "UCF7ZTrjeAnT"
      },
      "outputs": [],
      "source": [
        "def getpreferredencoding(do_setlocale = True):\n",
        "  return \"UTF-8\"\n",
        "import locale\n",
        "locale.getpreferredencoding = getpreferredencoding"
      ]
    },
    {
      "cell_type": "code",
      "execution_count": 216,
      "metadata": {
        "id": "5FuPBMEX_Lxv"
      },
      "outputs": [],
      "source": [
        "path = '/content/drive/MyDrive/Capstone Data/Phase 2/final_data.pkl'\n",
        "train_df = pd.read_pickle(path, compression = 'gzip')\n",
        "\n",
        "features = ['sentence_count', 'word_count', 'unique_word_count', \n",
        "            'length', 'punctuation_count', 'upper_case_count', \n",
        "            'stopword_count', '#_count', 'unique_word_count_percent', \n",
        "            'Punctuation_percent', 'ip_count','link_count', \n",
        "            'article_id_count', 'username_count', 'id']\n",
        "\n",
        "target_cols = ['toxic', 'severe_toxic', 'obscene', 'threat',\n",
        "               'insult', 'identity_hate']\n",
        "train_df = train_df.dropna()\n",
        "\n",
        "# Seperating features and target variable\n",
        "x = train_df[features]\n",
        "y = train_df[target_cols]\n"
      ]
    },
    {
      "cell_type": "code",
      "execution_count": 180,
      "metadata": {
        "colab": {
          "base_uri": "https://localhost:8080/"
        },
        "id": "EdNXBObCGIWk",
        "outputId": "f794f1f0-310a-4fd7-e244-321591ca6ac6"
      },
      "outputs": [
        {
          "output_type": "execute_result",
          "data": {
            "text/plain": [
              "16225"
            ]
          },
          "metadata": {},
          "execution_count": 180
        }
      ],
      "source": [
        "len(train_df[train_df['Sum']>0])"
      ]
    },
    {
      "cell_type": "markdown",
      "metadata": {
        "id": "vBVS0pWrF0LI"
      },
      "source": [
        "#### Supporting Functions"
      ]
    },
    {
      "cell_type": "code",
      "execution_count": 181,
      "metadata": {
        "id": "cczIIc7bF4JR"
      },
      "outputs": [],
      "source": [
        "def evaluation_metrics(y_test, y_pred):\n",
        "    result = {}\n",
        "    result['Accuracy'] = accuracy_score(y_test, y_pred)\n",
        "    result['Precision'] = precision_score(y_test, y_pred, average='weighted')\n",
        "    result['Recall'] = recall_score(y_test, y_pred, average='weighted')\n",
        "    result['F1 Score'] = f1_score(y_test, y_pred, average='weighted')\n",
        "    return result"
      ]
    },
    {
      "cell_type": "markdown",
      "metadata": {
        "id": "5635s77bFl9P"
      },
      "source": [
        "#### BERT Encoding"
      ]
    },
    {
      "cell_type": "code",
      "execution_count": 182,
      "metadata": {
        "colab": {
          "base_uri": "https://localhost:8080/",
          "height": 49,
          "referenced_widgets": [
            "383934cfb0934eb2a342772965ad6521",
            "f28b99e03adf4fd49940248b1a3fb989",
            "04d853919b3e4dc086d831cb47696919",
            "2f4dd11db8c944e3a3d29995dd0cb851",
            "c5a5ee6319db4cf4a99f1a14202e38f0",
            "abdd33d264f3499aa1c6da0416e79514",
            "47e613b1d2f549b5af70eeccf8af3ee3",
            "fe063067c4ba40c2be9f6e5c4f45662a",
            "2554713492b940b886c6cf0d4455f366",
            "d6932d0fd8fd44d4b58fb1cbf21d85df",
            "99e7f6b6fe6942c7895a3717dde658b3"
          ]
        },
        "id": "g-8WnPfD_35q",
        "outputId": "e4795e96-60d6-4cff-b941-232ae3736fbd"
      },
      "outputs": [
        {
          "output_type": "display_data",
          "data": {
            "text/plain": [
              "  0%|          | 0/159571 [00:00<?, ?it/s]"
            ],
            "application/vnd.jupyter.widget-view+json": {
              "version_major": 2,
              "version_minor": 0,
              "model_id": "383934cfb0934eb2a342772965ad6521"
            }
          },
          "metadata": {}
        }
      ],
      "source": [
        "from transformers import BertTokenizer\n",
        "from tensorflow.keras.preprocessing.sequence import pad_sequences\n",
        "\n",
        "bert_model_name = 'bert-base-uncased'\n",
        "\n",
        "tokenizer = BertTokenizer.from_pretrained(bert_model_name, do_lower_case=True)\n",
        "MAX_LEN = 128\n",
        "\n",
        "def tokenize_sentences(sentences, tokenizer, max_seq_len = 128):\n",
        "    tokenized_sentences = []\n",
        "\n",
        "    for sentence in tqdm(sentences):\n",
        "        tokenized_sentence = tokenizer.encode(\n",
        "                            sentence,                  # Sentence to encode.\n",
        "                            add_special_tokens = True, # Add '[CLS]' and '[SEP]'\n",
        "                            max_length = max_seq_len,  # Truncate all sentences.\n",
        "                    )\n",
        "        \n",
        "        tokenized_sentences.append(tokenized_sentence)\n",
        "\n",
        "    return tokenized_sentences\n",
        "\n",
        "def create_attention_masks(tokenized_and_padded_sentences):\n",
        "    attention_masks = []\n",
        "\n",
        "    for sentence in tokenized_and_padded_sentences:\n",
        "        att_mask = [int(token_id > 0) for token_id in sentence]\n",
        "        attention_masks.append(att_mask)\n",
        "\n",
        "    return np.asarray(attention_masks)\n",
        "\n",
        "input_ids = tokenize_sentences(x['clean_comment'], tokenizer, MAX_LEN)\n",
        "input_ids = pad_sequences(input_ids, maxlen=MAX_LEN, dtype=\"long\", value=0, truncating=\"post\", padding=\"post\")\n",
        "attention_masks = create_attention_masks(input_ids)"
      ]
    },
    {
      "cell_type": "code",
      "execution_count": null,
      "metadata": {
        "id": "jBPajxsogrgm"
      },
      "outputs": [],
      "source": [
        "# features.remove('clean_comment')\n",
        "merged_x = np.hstack((attention_masks, np.array(x[features])))\n",
        "merged_x.shape"
      ]
    },
    {
      "cell_type": "code",
      "execution_count": 250,
      "metadata": {
        "id": "Li9S_5ajj6nz"
      },
      "outputs": [],
      "source": [
        "# Splitting the data into train and test dataset\n",
        "from sklearn.model_selection import train_test_split\n",
        "train_x, test_x, train_y, test_y = train_test_split(np.array(merged_x), np.array(y), \n",
        "                                            test_size = 0.2, random_state = 2)"
      ]
    },
    {
      "cell_type": "code",
      "source": [
        "test_ids = pd.DataFrame(test_x)[142]\n",
        "test_x = np.delete(test_x, -1, axis=1)\n",
        "train_x = np.delete(train_x, -1, axis=1)\n",
        "test_x = np.array(test_x, dtype=float)\n",
        "train_x = np.array(train_x, dtype=float)\n",
        "train_y = np.array(train_y, dtype=float)\n",
        "test_y = np.array(test_y, dtype=float)\n",
        "no_rows = train_x.shape[0]\n",
        "no_cols = train_x.shape[1]\n",
        "type(test_x)"
      ],
      "metadata": {
        "colab": {
          "base_uri": "https://localhost:8080/"
        },
        "id": "xf8EWyNPalg3",
        "outputId": "dfabc21b-4cab-42d2-b32d-fef9c6e4f894"
      },
      "execution_count": 251,
      "outputs": [
        {
          "output_type": "execute_result",
          "data": {
            "text/plain": [
              "numpy.ndarray"
            ]
          },
          "metadata": {},
          "execution_count": 251
        }
      ]
    },
    {
      "cell_type": "code",
      "execution_count": 252,
      "metadata": {
        "colab": {
          "base_uri": "https://localhost:8080/"
        },
        "id": "oVzrJgflkGuA",
        "outputId": "f8f23ae8-b04a-4756-bf67-9bf8ffd68d88"
      },
      "outputs": [
        {
          "output_type": "stream",
          "name": "stdout",
          "text": [
            "127656 142\n",
            "Model: \"sequential_41\"\n",
            "_________________________________________________________________\n",
            " Layer (type)                Output Shape              Param #   \n",
            "=================================================================\n",
            " dense_205 (Dense)           (None, 512)               73216     \n",
            "                                                                 \n",
            " dropout_123 (Dropout)       (None, 512)               0         \n",
            "                                                                 \n",
            " dense_206 (Dense)           (None, 256)               131328    \n",
            "                                                                 \n",
            " dropout_124 (Dropout)       (None, 256)               0         \n",
            "                                                                 \n",
            " dense_207 (Dense)           (None, 64)                16448     \n",
            "                                                                 \n",
            " dropout_125 (Dropout)       (None, 64)                0         \n",
            "                                                                 \n",
            " dense_208 (Dense)           (None, 32)                2080      \n",
            "                                                                 \n",
            " dense_209 (Dense)           (None, 1)                 33        \n",
            "                                                                 \n",
            "=================================================================\n",
            "Total params: 223,105\n",
            "Trainable params: 223,105\n",
            "Non-trainable params: 0\n",
            "_________________________________________________________________\n"
          ]
        }
      ],
      "source": [
        "from keras.models import Sequential\n",
        "from keras.layers import *\n",
        "print(no_rows, no_cols)\n",
        "nn_model = Sequential([\n",
        "    Dense(512, input_shape=(no_cols,), activation='relu'),\n",
        "    Dropout(0.2),\n",
        "    Dense(256, activation='relu'),\n",
        "    Dropout(0.2),\n",
        "    Dense(64, activation='relu'),\n",
        "    Dropout(0.2),\n",
        "    Dense(32, activation='relu'),\n",
        "    Dense(1, activation='sigmoid'),\n",
        "])\n",
        "\n",
        "nn_model.compile(loss='binary_crossentropy', optimizer='adam', metrics='acc')\n",
        "\n",
        "nn_model.summary()"
      ]
    },
    {
      "cell_type": "markdown",
      "source": [
        "### Ranking comments"
      ],
      "metadata": {
        "id": "G46S9WE5I8kg"
      }
    },
    {
      "cell_type": "code",
      "execution_count": 256,
      "metadata": {
        "colab": {
          "base_uri": "https://localhost:8080/",
          "height": 1000
        },
        "id": "rI8vmP7GUaoP",
        "outputId": "6fe03173-ccbd-4705-eea0-2d2e291d3c15"
      },
      "outputs": [
        {
          "output_type": "stream",
          "name": "stdout",
          "text": [
            "Epoch 1/10\n",
            "1995/1995 [==============================] - 11s 5ms/step - loss: 0.2794 - acc: 0.9089 - val_loss: 0.2817 - val_acc: 0.9077\n",
            "Epoch 2/10\n",
            "1995/1995 [==============================] - 11s 5ms/step - loss: 0.2789 - acc: 0.9089 - val_loss: 0.2818 - val_acc: 0.9076\n",
            "Epoch 3/10\n",
            "1995/1995 [==============================] - 9s 5ms/step - loss: 0.2780 - acc: 0.9093 - val_loss: 0.2814 - val_acc: 0.9072\n",
            "Epoch 4/10\n",
            "1995/1995 [==============================] - 9s 5ms/step - loss: 0.2781 - acc: 0.9088 - val_loss: 0.2806 - val_acc: 0.9081\n",
            "Epoch 5/10\n",
            "1995/1995 [==============================] - 12s 6ms/step - loss: 0.2776 - acc: 0.9089 - val_loss: 0.2844 - val_acc: 0.9070\n",
            "Epoch 6/10\n",
            "1995/1995 [==============================] - 10s 5ms/step - loss: 0.2779 - acc: 0.9092 - val_loss: 0.2794 - val_acc: 0.9077\n",
            "Epoch 7/10\n",
            "1995/1995 [==============================] - 9s 4ms/step - loss: 0.2762 - acc: 0.9093 - val_loss: 0.2791 - val_acc: 0.9084\n",
            "Epoch 8/10\n",
            "1995/1995 [==============================] - 10s 5ms/step - loss: 0.2772 - acc: 0.9090 - val_loss: 0.2804 - val_acc: 0.9077\n",
            "Epoch 9/10\n",
            "1995/1995 [==============================] - 10s 5ms/step - loss: 0.2767 - acc: 0.9092 - val_loss: 0.2795 - val_acc: 0.9074\n",
            "Epoch 10/10\n",
            "1995/1995 [==============================] - 9s 5ms/step - loss: 0.2770 - acc: 0.9090 - val_loss: 0.2793 - val_acc: 0.9087\n",
            "998/998 [==============================] - 2s 1ms/step\n",
            "Epoch 1/10\n",
            "1995/1995 [==============================] - 12s 6ms/step - loss: 0.0475 - acc: 0.9901 - val_loss: 0.0500 - val_acc: 0.9892\n",
            "Epoch 2/10\n",
            "1995/1995 [==============================] - 16s 8ms/step - loss: 0.0467 - acc: 0.9902 - val_loss: 0.0496 - val_acc: 0.9892\n",
            "Epoch 3/10\n",
            "1995/1995 [==============================] - 11s 6ms/step - loss: 0.0467 - acc: 0.9902 - val_loss: 0.0503 - val_acc: 0.9892\n",
            "Epoch 4/10\n",
            "1995/1995 [==============================] - 8s 4ms/step - loss: 0.0469 - acc: 0.9902 - val_loss: 0.0495 - val_acc: 0.9892\n",
            "Epoch 5/10\n",
            "1995/1995 [==============================] - 10s 5ms/step - loss: 0.0464 - acc: 0.9902 - val_loss: 0.0496 - val_acc: 0.9892\n",
            "Epoch 6/10\n",
            "1995/1995 [==============================] - 10s 5ms/step - loss: 0.0462 - acc: 0.9902 - val_loss: 0.0498 - val_acc: 0.9892\n",
            "Epoch 7/10\n",
            "1995/1995 [==============================] - 9s 5ms/step - loss: 0.0465 - acc: 0.9902 - val_loss: 0.0513 - val_acc: 0.9892\n",
            "Epoch 8/10\n",
            "1995/1995 [==============================] - 11s 6ms/step - loss: 0.0470 - acc: 0.9902 - val_loss: 0.0496 - val_acc: 0.9892\n",
            "Epoch 9/10\n",
            "1995/1995 [==============================] - 10s 5ms/step - loss: 0.0468 - acc: 0.9902 - val_loss: 0.0502 - val_acc: 0.9892\n",
            "Epoch 10/10\n",
            "1995/1995 [==============================] - 9s 5ms/step - loss: 0.0460 - acc: 0.9902 - val_loss: 0.0497 - val_acc: 0.9892\n",
            "998/998 [==============================] - 2s 2ms/step\n"
          ]
        },
        {
          "output_type": "stream",
          "name": "stderr",
          "text": [
            "/usr/local/lib/python3.9/dist-packages/sklearn/metrics/_classification.py:1344: UndefinedMetricWarning: Precision is ill-defined and being set to 0.0 in labels with no predicted samples. Use `zero_division` parameter to control this behavior.\n",
            "  _warn_prf(average, modifier, msg_start, len(result))\n"
          ]
        },
        {
          "output_type": "stream",
          "name": "stdout",
          "text": [
            "Epoch 1/10\n",
            "1995/1995 [==============================] - 9s 4ms/step - loss: 0.1861 - acc: 0.9470 - val_loss: 0.1833 - val_acc: 0.9473\n",
            "Epoch 2/10\n",
            "1995/1995 [==============================] - 10s 5ms/step - loss: 0.1831 - acc: 0.9471 - val_loss: 0.1836 - val_acc: 0.9469\n",
            "Epoch 3/10\n",
            "1995/1995 [==============================] - 10s 5ms/step - loss: 0.1839 - acc: 0.9470 - val_loss: 0.1833 - val_acc: 0.9475\n",
            "Epoch 4/10\n",
            "1995/1995 [==============================] - 11s 5ms/step - loss: 0.1825 - acc: 0.9473 - val_loss: 0.1833 - val_acc: 0.9474\n",
            "Epoch 5/10\n",
            "1995/1995 [==============================] - 9s 5ms/step - loss: 0.1825 - acc: 0.9471 - val_loss: 0.1828 - val_acc: 0.9475\n",
            "Epoch 6/10\n",
            "1995/1995 [==============================] - 10s 5ms/step - loss: 0.1824 - acc: 0.9471 - val_loss: 0.1829 - val_acc: 0.9474\n",
            "Epoch 7/10\n",
            "1995/1995 [==============================] - 11s 5ms/step - loss: 0.1822 - acc: 0.9471 - val_loss: 0.1832 - val_acc: 0.9476\n",
            "Epoch 8/10\n",
            "1995/1995 [==============================] - 9s 4ms/step - loss: 0.1817 - acc: 0.9471 - val_loss: 0.1832 - val_acc: 0.9474\n",
            "Epoch 9/10\n",
            "1995/1995 [==============================] - 10s 5ms/step - loss: 0.1824 - acc: 0.9469 - val_loss: 0.1817 - val_acc: 0.9474\n",
            "Epoch 10/10\n",
            "1995/1995 [==============================] - 11s 5ms/step - loss: 0.1816 - acc: 0.9472 - val_loss: 0.1832 - val_acc: 0.9473\n",
            "998/998 [==============================] - 2s 2ms/step\n",
            "Epoch 1/10\n",
            "1995/1995 [==============================] - 9s 5ms/step - loss: 0.0202 - acc: 0.9969 - val_loss: 0.0197 - val_acc: 0.9972\n",
            "Epoch 2/10\n",
            "1995/1995 [==============================] - 12s 6ms/step - loss: 0.0198 - acc: 0.9970 - val_loss: 0.0213 - val_acc: 0.9972\n",
            "Epoch 3/10\n",
            "1995/1995 [==============================] - 9s 4ms/step - loss: 0.0215 - acc: 0.9969 - val_loss: 0.0187 - val_acc: 0.9972\n",
            "Epoch 4/10\n",
            "1995/1995 [==============================] - 10s 5ms/step - loss: 0.0210 - acc: 0.9970 - val_loss: 0.0177 - val_acc: 0.9972\n",
            "Epoch 5/10\n",
            "1995/1995 [==============================] - 10s 5ms/step - loss: 0.0204 - acc: 0.9969 - val_loss: 0.0193 - val_acc: 0.9972\n",
            "Epoch 6/10\n",
            "1995/1995 [==============================] - 9s 4ms/step - loss: 0.0209 - acc: 0.9969 - val_loss: 0.0179 - val_acc: 0.9972\n",
            "Epoch 7/10\n",
            "1995/1995 [==============================] - 9s 5ms/step - loss: 0.0220 - acc: 0.9969 - val_loss: 0.0180 - val_acc: 0.9972\n",
            "Epoch 8/10\n",
            "1995/1995 [==============================] - 11s 5ms/step - loss: 0.0204 - acc: 0.9969 - val_loss: 0.0181 - val_acc: 0.9972\n",
            "Epoch 9/10\n",
            "1995/1995 [==============================] - 10s 5ms/step - loss: 0.0205 - acc: 0.9969 - val_loss: 0.0188 - val_acc: 0.9972\n",
            "Epoch 10/10\n",
            "1995/1995 [==============================] - 9s 4ms/step - loss: 0.0209 - acc: 0.9969 - val_loss: 0.0215 - val_acc: 0.9972\n",
            "998/998 [==============================] - 2s 2ms/step\n"
          ]
        },
        {
          "output_type": "stream",
          "name": "stderr",
          "text": [
            "/usr/local/lib/python3.9/dist-packages/sklearn/metrics/_classification.py:1344: UndefinedMetricWarning: Precision is ill-defined and being set to 0.0 in labels with no predicted samples. Use `zero_division` parameter to control this behavior.\n",
            "  _warn_prf(average, modifier, msg_start, len(result))\n"
          ]
        },
        {
          "output_type": "stream",
          "name": "stdout",
          "text": [
            "Epoch 1/10\n",
            "1995/1995 [==============================] - 10s 5ms/step - loss: 0.1847 - acc: 0.9503 - val_loss: 0.1769 - val_acc: 0.9516\n",
            "Epoch 2/10\n",
            "1995/1995 [==============================] - 10s 5ms/step - loss: 0.1789 - acc: 0.9504 - val_loss: 0.1748 - val_acc: 0.9516\n",
            "Epoch 3/10\n",
            "1995/1995 [==============================] - 9s 5ms/step - loss: 0.1770 - acc: 0.9505 - val_loss: 0.1754 - val_acc: 0.9517\n",
            "Epoch 4/10\n",
            "1995/1995 [==============================] - 9s 5ms/step - loss: 0.1778 - acc: 0.9501 - val_loss: 0.1743 - val_acc: 0.9513\n",
            "Epoch 5/10\n",
            "1995/1995 [==============================] - 11s 6ms/step - loss: 0.1759 - acc: 0.9503 - val_loss: 0.1729 - val_acc: 0.9516\n",
            "Epoch 6/10\n",
            "1995/1995 [==============================] - 9s 5ms/step - loss: 0.1764 - acc: 0.9501 - val_loss: 0.1739 - val_acc: 0.9516\n",
            "Epoch 7/10\n",
            "1995/1995 [==============================] - 9s 5ms/step - loss: 0.1755 - acc: 0.9503 - val_loss: 0.1735 - val_acc: 0.9516\n",
            "Epoch 8/10\n",
            "1995/1995 [==============================] - 10s 5ms/step - loss: 0.1754 - acc: 0.9504 - val_loss: 0.1749 - val_acc: 0.9516\n",
            "Epoch 9/10\n",
            "1995/1995 [==============================] - 10s 5ms/step - loss: 0.1752 - acc: 0.9506 - val_loss: 0.1723 - val_acc: 0.9515\n",
            "Epoch 10/10\n",
            "1995/1995 [==============================] - 9s 4ms/step - loss: 0.1743 - acc: 0.9505 - val_loss: 0.1736 - val_acc: 0.9516\n",
            "998/998 [==============================] - 2s 2ms/step\n",
            "Epoch 1/10\n",
            "1995/1995 [==============================] - 11s 5ms/step - loss: 0.0475 - acc: 0.9911 - val_loss: 0.0478 - val_acc: 0.9916\n",
            "Epoch 2/10\n",
            "1995/1995 [==============================] - 10s 5ms/step - loss: 0.0477 - acc: 0.9911 - val_loss: 0.0455 - val_acc: 0.9916\n",
            "Epoch 3/10\n",
            "1995/1995 [==============================] - 10s 5ms/step - loss: 0.0473 - acc: 0.9911 - val_loss: 0.0474 - val_acc: 0.9916\n",
            "Epoch 4/10\n",
            "1995/1995 [==============================] - 9s 4ms/step - loss: 0.0475 - acc: 0.9911 - val_loss: 0.0480 - val_acc: 0.9916\n",
            "Epoch 5/10\n",
            "1995/1995 [==============================] - 10s 5ms/step - loss: 0.0474 - acc: 0.9911 - val_loss: 0.0458 - val_acc: 0.9916\n",
            "Epoch 6/10\n",
            "1995/1995 [==============================] - 10s 5ms/step - loss: 0.0469 - acc: 0.9911 - val_loss: 0.0458 - val_acc: 0.9916\n",
            "Epoch 7/10\n",
            "1995/1995 [==============================] - 10s 5ms/step - loss: 0.0470 - acc: 0.9911 - val_loss: 0.0459 - val_acc: 0.9916\n",
            "Epoch 8/10\n",
            "1995/1995 [==============================] - 9s 5ms/step - loss: 0.0469 - acc: 0.9911 - val_loss: 0.0454 - val_acc: 0.9916\n",
            "Epoch 9/10\n",
            "1995/1995 [==============================] - 10s 5ms/step - loss: 0.0469 - acc: 0.9911 - val_loss: 0.0457 - val_acc: 0.9916\n",
            "Epoch 10/10\n",
            "1995/1995 [==============================] - 9s 5ms/step - loss: 0.0471 - acc: 0.9911 - val_loss: 0.0449 - val_acc: 0.9916\n",
            "998/998 [==============================] - 2s 2ms/step\n"
          ]
        },
        {
          "output_type": "stream",
          "name": "stderr",
          "text": [
            "/usr/local/lib/python3.9/dist-packages/sklearn/metrics/_classification.py:1344: UndefinedMetricWarning: Precision is ill-defined and being set to 0.0 in labels with no predicted samples. Use `zero_division` parameter to control this behavior.\n",
            "  _warn_prf(average, modifier, msg_start, len(result))\n"
          ]
        },
        {
          "output_type": "execute_result",
          "data": {
            "text/plain": [
              "  Target Variable  Accuracy  Precision    Recall  F1 Score\n",
              "0           toxic  0.908726   0.889271  0.908726  0.878182\n",
              "1    severe_toxic  0.989190   0.978497  0.989190  0.983814\n",
              "2         obscene  0.947329   0.923900  0.947329  0.922013\n",
              "3          threat  0.997180   0.994368  0.997180  0.995772\n",
              "4          insult  0.951559   0.933685  0.951559  0.928520\n",
              "5   identity_hate  0.991634   0.983338  0.991634  0.987469"
            ],
            "text/html": [
              "\n",
              "  <div id=\"df-158c89d7-9ff5-46b9-bb80-ba785167fc33\">\n",
              "    <div class=\"colab-df-container\">\n",
              "      <div>\n",
              "<style scoped>\n",
              "    .dataframe tbody tr th:only-of-type {\n",
              "        vertical-align: middle;\n",
              "    }\n",
              "\n",
              "    .dataframe tbody tr th {\n",
              "        vertical-align: top;\n",
              "    }\n",
              "\n",
              "    .dataframe thead th {\n",
              "        text-align: right;\n",
              "    }\n",
              "</style>\n",
              "<table border=\"1\" class=\"dataframe\">\n",
              "  <thead>\n",
              "    <tr style=\"text-align: right;\">\n",
              "      <th></th>\n",
              "      <th>Target Variable</th>\n",
              "      <th>Accuracy</th>\n",
              "      <th>Precision</th>\n",
              "      <th>Recall</th>\n",
              "      <th>F1 Score</th>\n",
              "    </tr>\n",
              "  </thead>\n",
              "  <tbody>\n",
              "    <tr>\n",
              "      <th>0</th>\n",
              "      <td>toxic</td>\n",
              "      <td>0.908726</td>\n",
              "      <td>0.889271</td>\n",
              "      <td>0.908726</td>\n",
              "      <td>0.878182</td>\n",
              "    </tr>\n",
              "    <tr>\n",
              "      <th>1</th>\n",
              "      <td>severe_toxic</td>\n",
              "      <td>0.989190</td>\n",
              "      <td>0.978497</td>\n",
              "      <td>0.989190</td>\n",
              "      <td>0.983814</td>\n",
              "    </tr>\n",
              "    <tr>\n",
              "      <th>2</th>\n",
              "      <td>obscene</td>\n",
              "      <td>0.947329</td>\n",
              "      <td>0.923900</td>\n",
              "      <td>0.947329</td>\n",
              "      <td>0.922013</td>\n",
              "    </tr>\n",
              "    <tr>\n",
              "      <th>3</th>\n",
              "      <td>threat</td>\n",
              "      <td>0.997180</td>\n",
              "      <td>0.994368</td>\n",
              "      <td>0.997180</td>\n",
              "      <td>0.995772</td>\n",
              "    </tr>\n",
              "    <tr>\n",
              "      <th>4</th>\n",
              "      <td>insult</td>\n",
              "      <td>0.951559</td>\n",
              "      <td>0.933685</td>\n",
              "      <td>0.951559</td>\n",
              "      <td>0.928520</td>\n",
              "    </tr>\n",
              "    <tr>\n",
              "      <th>5</th>\n",
              "      <td>identity_hate</td>\n",
              "      <td>0.991634</td>\n",
              "      <td>0.983338</td>\n",
              "      <td>0.991634</td>\n",
              "      <td>0.987469</td>\n",
              "    </tr>\n",
              "  </tbody>\n",
              "</table>\n",
              "</div>\n",
              "      <button class=\"colab-df-convert\" onclick=\"convertToInteractive('df-158c89d7-9ff5-46b9-bb80-ba785167fc33')\"\n",
              "              title=\"Convert this dataframe to an interactive table.\"\n",
              "              style=\"display:none;\">\n",
              "        \n",
              "  <svg xmlns=\"http://www.w3.org/2000/svg\" height=\"24px\"viewBox=\"0 0 24 24\"\n",
              "       width=\"24px\">\n",
              "    <path d=\"M0 0h24v24H0V0z\" fill=\"none\"/>\n",
              "    <path d=\"M18.56 5.44l.94 2.06.94-2.06 2.06-.94-2.06-.94-.94-2.06-.94 2.06-2.06.94zm-11 1L8.5 8.5l.94-2.06 2.06-.94-2.06-.94L8.5 2.5l-.94 2.06-2.06.94zm10 10l.94 2.06.94-2.06 2.06-.94-2.06-.94-.94-2.06-.94 2.06-2.06.94z\"/><path d=\"M17.41 7.96l-1.37-1.37c-.4-.4-.92-.59-1.43-.59-.52 0-1.04.2-1.43.59L10.3 9.45l-7.72 7.72c-.78.78-.78 2.05 0 2.83L4 21.41c.39.39.9.59 1.41.59.51 0 1.02-.2 1.41-.59l7.78-7.78 2.81-2.81c.8-.78.8-2.07 0-2.86zM5.41 20L4 18.59l7.72-7.72 1.47 1.35L5.41 20z\"/>\n",
              "  </svg>\n",
              "      </button>\n",
              "      \n",
              "  <style>\n",
              "    .colab-df-container {\n",
              "      display:flex;\n",
              "      flex-wrap:wrap;\n",
              "      gap: 12px;\n",
              "    }\n",
              "\n",
              "    .colab-df-convert {\n",
              "      background-color: #E8F0FE;\n",
              "      border: none;\n",
              "      border-radius: 50%;\n",
              "      cursor: pointer;\n",
              "      display: none;\n",
              "      fill: #1967D2;\n",
              "      height: 32px;\n",
              "      padding: 0 0 0 0;\n",
              "      width: 32px;\n",
              "    }\n",
              "\n",
              "    .colab-df-convert:hover {\n",
              "      background-color: #E2EBFA;\n",
              "      box-shadow: 0px 1px 2px rgba(60, 64, 67, 0.3), 0px 1px 3px 1px rgba(60, 64, 67, 0.15);\n",
              "      fill: #174EA6;\n",
              "    }\n",
              "\n",
              "    [theme=dark] .colab-df-convert {\n",
              "      background-color: #3B4455;\n",
              "      fill: #D2E3FC;\n",
              "    }\n",
              "\n",
              "    [theme=dark] .colab-df-convert:hover {\n",
              "      background-color: #434B5C;\n",
              "      box-shadow: 0px 1px 3px 1px rgba(0, 0, 0, 0.15);\n",
              "      filter: drop-shadow(0px 1px 2px rgba(0, 0, 0, 0.3));\n",
              "      fill: #FFFFFF;\n",
              "    }\n",
              "  </style>\n",
              "\n",
              "      <script>\n",
              "        const buttonEl =\n",
              "          document.querySelector('#df-158c89d7-9ff5-46b9-bb80-ba785167fc33 button.colab-df-convert');\n",
              "        buttonEl.style.display =\n",
              "          google.colab.kernel.accessAllowed ? 'block' : 'none';\n",
              "\n",
              "        async function convertToInteractive(key) {\n",
              "          const element = document.querySelector('#df-158c89d7-9ff5-46b9-bb80-ba785167fc33');\n",
              "          const dataTable =\n",
              "            await google.colab.kernel.invokeFunction('convertToInteractive',\n",
              "                                                     [key], {});\n",
              "          if (!dataTable) return;\n",
              "\n",
              "          const docLinkHtml = 'Like what you see? Visit the ' +\n",
              "            '<a target=\"_blank\" href=https://colab.research.google.com/notebooks/data_table.ipynb>data table notebook</a>'\n",
              "            + ' to learn more about interactive tables.';\n",
              "          element.innerHTML = '';\n",
              "          dataTable['output_type'] = 'display_data';\n",
              "          await google.colab.output.renderOutput(dataTable, element);\n",
              "          const docLink = document.createElement('div');\n",
              "          docLink.innerHTML = docLinkHtml;\n",
              "          element.appendChild(docLink);\n",
              "        }\n",
              "      </script>\n",
              "    </div>\n",
              "  </div>\n",
              "  "
            ]
          },
          "metadata": {},
          "execution_count": 256
        }
      ],
      "source": [
        "train_y_df = pd.DataFrame(train_y)\n",
        "test_y_df = pd.DataFrame(test_y)\n",
        "result_df = pd.DataFrame(['Target Variable','Accuracy', 'Precision', 'Recall', 'F1 Score'])\n",
        "result_list = []\n",
        "pred_scores = []\n",
        "all_class_scores = []\n",
        "for i in range(6):\n",
        "  train_target = np.array(train_y_df[i]).reshape(-1,1)\n",
        "  test_target = np.array(test_y_df[i]).reshape(-1,1)\n",
        "  history = nn_model.fit(train_x, train_target, epochs=10, \n",
        "                         batch_size=64, validation_data=(test_x, test_target))\n",
        "  nn_pred = nn_model.predict(test_x)\n",
        "  pred_scores.append(nn_pred)\n",
        "  nn_pred = np.where(nn_pred > 0.5, 1, 0)\n",
        "  res = evaluation_metrics(test_target,nn_pred)\n",
        "  res = list(res.values())\n",
        "  res.insert(0, target_cols[i])\n",
        "  result_list.append(res) \n",
        "\n",
        "pd.DataFrame(result_list, columns=['Target Variable','Accuracy', 'Precision', 'Recall', 'F1 Score'])"
      ]
    },
    {
      "cell_type": "code",
      "source": [
        "scores_df = pd.DataFrame(columns=target_cols)\n",
        "for i in range(len(target_cols)):\n",
        "  scores_df[target_cols[i]] = pred_scores[i].reshape(-1)"
      ],
      "metadata": {
        "id": "wOdCTmlI6Qsq"
      },
      "execution_count": 269,
      "outputs": []
    },
    {
      "cell_type": "code",
      "source": [
        "scores_df['overall_avg_score'] = scores_df.sum(axis=1)/6\n",
        "scores_df['overall_total_score'] = scores_df[target_cols].sum(axis=1)\n",
        "scores_df['ids'] = test_ids\n",
        "scores_df"
      ],
      "metadata": {
        "colab": {
          "base_uri": "https://localhost:8080/",
          "height": 424
        },
        "id": "aZwpvVYlYajd",
        "outputId": "f21f8aa6-e009-42a0-a235-4c3a9373f586"
      },
      "execution_count": 270,
      "outputs": [
        {
          "output_type": "execute_result",
          "data": {
            "text/plain": [
              "          toxic  severe_toxic   obscene    threat    insult  identity_hate  \\\n",
              "0      0.204895      0.006191  0.211111  0.011678  0.152558       0.003431   \n",
              "1      0.055296      0.003876  0.054304  0.003126  0.028798       0.005680   \n",
              "2      0.109453      0.006395  0.036951  0.007572  0.040845       0.006566   \n",
              "3      0.093269      0.004960  0.057267  0.005412  0.039614       0.008314   \n",
              "4      0.090145      0.002948  0.065289  0.004580  0.040477       0.003431   \n",
              "...         ...           ...       ...       ...       ...            ...   \n",
              "31910  0.280293      0.008060  0.152782  0.008934  0.085492       0.014571   \n",
              "31911  0.016614      0.000370  0.010211  0.001389  0.014788       0.003431   \n",
              "31912  0.093554      0.004585  0.057074  0.002020  0.036417       0.007518   \n",
              "31913  0.092856      0.004900  0.087426  0.003225  0.036930       0.007683   \n",
              "31914  0.107046      0.005871  0.070531  0.000880  0.060320       0.007432   \n",
              "\n",
              "       overall_avg_score  overall_total_score               ids  \n",
              "0               0.098311             0.589863  9aac578d0651fe9a  \n",
              "1               0.025180             0.151079  2cd296156c422c6b  \n",
              "2               0.034630             0.207781  a1e6bcff577bf61f  \n",
              "3               0.034806             0.208837  2192cb3732db1a6d  \n",
              "4               0.034478             0.206870  9aa0e9243d80490e  \n",
              "...                  ...                  ...               ...  \n",
              "31910           0.091689             0.550133  68fbfc76d8bd1792  \n",
              "31911           0.007801             0.046804  df9f3649e9be1b11  \n",
              "31912           0.033528             0.201168  a420247ebf3d8d86  \n",
              "31913           0.038837             0.233021  72914eeb8d8121da  \n",
              "31914           0.042013             0.252080  06d06a55fd5f662d  \n",
              "\n",
              "[31915 rows x 9 columns]"
            ],
            "text/html": [
              "\n",
              "  <div id=\"df-c08cde04-9ecb-43a5-917b-62a7685300c2\">\n",
              "    <div class=\"colab-df-container\">\n",
              "      <div>\n",
              "<style scoped>\n",
              "    .dataframe tbody tr th:only-of-type {\n",
              "        vertical-align: middle;\n",
              "    }\n",
              "\n",
              "    .dataframe tbody tr th {\n",
              "        vertical-align: top;\n",
              "    }\n",
              "\n",
              "    .dataframe thead th {\n",
              "        text-align: right;\n",
              "    }\n",
              "</style>\n",
              "<table border=\"1\" class=\"dataframe\">\n",
              "  <thead>\n",
              "    <tr style=\"text-align: right;\">\n",
              "      <th></th>\n",
              "      <th>toxic</th>\n",
              "      <th>severe_toxic</th>\n",
              "      <th>obscene</th>\n",
              "      <th>threat</th>\n",
              "      <th>insult</th>\n",
              "      <th>identity_hate</th>\n",
              "      <th>overall_avg_score</th>\n",
              "      <th>overall_total_score</th>\n",
              "      <th>ids</th>\n",
              "    </tr>\n",
              "  </thead>\n",
              "  <tbody>\n",
              "    <tr>\n",
              "      <th>0</th>\n",
              "      <td>0.204895</td>\n",
              "      <td>0.006191</td>\n",
              "      <td>0.211111</td>\n",
              "      <td>0.011678</td>\n",
              "      <td>0.152558</td>\n",
              "      <td>0.003431</td>\n",
              "      <td>0.098311</td>\n",
              "      <td>0.589863</td>\n",
              "      <td>9aac578d0651fe9a</td>\n",
              "    </tr>\n",
              "    <tr>\n",
              "      <th>1</th>\n",
              "      <td>0.055296</td>\n",
              "      <td>0.003876</td>\n",
              "      <td>0.054304</td>\n",
              "      <td>0.003126</td>\n",
              "      <td>0.028798</td>\n",
              "      <td>0.005680</td>\n",
              "      <td>0.025180</td>\n",
              "      <td>0.151079</td>\n",
              "      <td>2cd296156c422c6b</td>\n",
              "    </tr>\n",
              "    <tr>\n",
              "      <th>2</th>\n",
              "      <td>0.109453</td>\n",
              "      <td>0.006395</td>\n",
              "      <td>0.036951</td>\n",
              "      <td>0.007572</td>\n",
              "      <td>0.040845</td>\n",
              "      <td>0.006566</td>\n",
              "      <td>0.034630</td>\n",
              "      <td>0.207781</td>\n",
              "      <td>a1e6bcff577bf61f</td>\n",
              "    </tr>\n",
              "    <tr>\n",
              "      <th>3</th>\n",
              "      <td>0.093269</td>\n",
              "      <td>0.004960</td>\n",
              "      <td>0.057267</td>\n",
              "      <td>0.005412</td>\n",
              "      <td>0.039614</td>\n",
              "      <td>0.008314</td>\n",
              "      <td>0.034806</td>\n",
              "      <td>0.208837</td>\n",
              "      <td>2192cb3732db1a6d</td>\n",
              "    </tr>\n",
              "    <tr>\n",
              "      <th>4</th>\n",
              "      <td>0.090145</td>\n",
              "      <td>0.002948</td>\n",
              "      <td>0.065289</td>\n",
              "      <td>0.004580</td>\n",
              "      <td>0.040477</td>\n",
              "      <td>0.003431</td>\n",
              "      <td>0.034478</td>\n",
              "      <td>0.206870</td>\n",
              "      <td>9aa0e9243d80490e</td>\n",
              "    </tr>\n",
              "    <tr>\n",
              "      <th>...</th>\n",
              "      <td>...</td>\n",
              "      <td>...</td>\n",
              "      <td>...</td>\n",
              "      <td>...</td>\n",
              "      <td>...</td>\n",
              "      <td>...</td>\n",
              "      <td>...</td>\n",
              "      <td>...</td>\n",
              "      <td>...</td>\n",
              "    </tr>\n",
              "    <tr>\n",
              "      <th>31910</th>\n",
              "      <td>0.280293</td>\n",
              "      <td>0.008060</td>\n",
              "      <td>0.152782</td>\n",
              "      <td>0.008934</td>\n",
              "      <td>0.085492</td>\n",
              "      <td>0.014571</td>\n",
              "      <td>0.091689</td>\n",
              "      <td>0.550133</td>\n",
              "      <td>68fbfc76d8bd1792</td>\n",
              "    </tr>\n",
              "    <tr>\n",
              "      <th>31911</th>\n",
              "      <td>0.016614</td>\n",
              "      <td>0.000370</td>\n",
              "      <td>0.010211</td>\n",
              "      <td>0.001389</td>\n",
              "      <td>0.014788</td>\n",
              "      <td>0.003431</td>\n",
              "      <td>0.007801</td>\n",
              "      <td>0.046804</td>\n",
              "      <td>df9f3649e9be1b11</td>\n",
              "    </tr>\n",
              "    <tr>\n",
              "      <th>31912</th>\n",
              "      <td>0.093554</td>\n",
              "      <td>0.004585</td>\n",
              "      <td>0.057074</td>\n",
              "      <td>0.002020</td>\n",
              "      <td>0.036417</td>\n",
              "      <td>0.007518</td>\n",
              "      <td>0.033528</td>\n",
              "      <td>0.201168</td>\n",
              "      <td>a420247ebf3d8d86</td>\n",
              "    </tr>\n",
              "    <tr>\n",
              "      <th>31913</th>\n",
              "      <td>0.092856</td>\n",
              "      <td>0.004900</td>\n",
              "      <td>0.087426</td>\n",
              "      <td>0.003225</td>\n",
              "      <td>0.036930</td>\n",
              "      <td>0.007683</td>\n",
              "      <td>0.038837</td>\n",
              "      <td>0.233021</td>\n",
              "      <td>72914eeb8d8121da</td>\n",
              "    </tr>\n",
              "    <tr>\n",
              "      <th>31914</th>\n",
              "      <td>0.107046</td>\n",
              "      <td>0.005871</td>\n",
              "      <td>0.070531</td>\n",
              "      <td>0.000880</td>\n",
              "      <td>0.060320</td>\n",
              "      <td>0.007432</td>\n",
              "      <td>0.042013</td>\n",
              "      <td>0.252080</td>\n",
              "      <td>06d06a55fd5f662d</td>\n",
              "    </tr>\n",
              "  </tbody>\n",
              "</table>\n",
              "<p>31915 rows × 9 columns</p>\n",
              "</div>\n",
              "      <button class=\"colab-df-convert\" onclick=\"convertToInteractive('df-c08cde04-9ecb-43a5-917b-62a7685300c2')\"\n",
              "              title=\"Convert this dataframe to an interactive table.\"\n",
              "              style=\"display:none;\">\n",
              "        \n",
              "  <svg xmlns=\"http://www.w3.org/2000/svg\" height=\"24px\"viewBox=\"0 0 24 24\"\n",
              "       width=\"24px\">\n",
              "    <path d=\"M0 0h24v24H0V0z\" fill=\"none\"/>\n",
              "    <path d=\"M18.56 5.44l.94 2.06.94-2.06 2.06-.94-2.06-.94-.94-2.06-.94 2.06-2.06.94zm-11 1L8.5 8.5l.94-2.06 2.06-.94-2.06-.94L8.5 2.5l-.94 2.06-2.06.94zm10 10l.94 2.06.94-2.06 2.06-.94-2.06-.94-.94-2.06-.94 2.06-2.06.94z\"/><path d=\"M17.41 7.96l-1.37-1.37c-.4-.4-.92-.59-1.43-.59-.52 0-1.04.2-1.43.59L10.3 9.45l-7.72 7.72c-.78.78-.78 2.05 0 2.83L4 21.41c.39.39.9.59 1.41.59.51 0 1.02-.2 1.41-.59l7.78-7.78 2.81-2.81c.8-.78.8-2.07 0-2.86zM5.41 20L4 18.59l7.72-7.72 1.47 1.35L5.41 20z\"/>\n",
              "  </svg>\n",
              "      </button>\n",
              "      \n",
              "  <style>\n",
              "    .colab-df-container {\n",
              "      display:flex;\n",
              "      flex-wrap:wrap;\n",
              "      gap: 12px;\n",
              "    }\n",
              "\n",
              "    .colab-df-convert {\n",
              "      background-color: #E8F0FE;\n",
              "      border: none;\n",
              "      border-radius: 50%;\n",
              "      cursor: pointer;\n",
              "      display: none;\n",
              "      fill: #1967D2;\n",
              "      height: 32px;\n",
              "      padding: 0 0 0 0;\n",
              "      width: 32px;\n",
              "    }\n",
              "\n",
              "    .colab-df-convert:hover {\n",
              "      background-color: #E2EBFA;\n",
              "      box-shadow: 0px 1px 2px rgba(60, 64, 67, 0.3), 0px 1px 3px 1px rgba(60, 64, 67, 0.15);\n",
              "      fill: #174EA6;\n",
              "    }\n",
              "\n",
              "    [theme=dark] .colab-df-convert {\n",
              "      background-color: #3B4455;\n",
              "      fill: #D2E3FC;\n",
              "    }\n",
              "\n",
              "    [theme=dark] .colab-df-convert:hover {\n",
              "      background-color: #434B5C;\n",
              "      box-shadow: 0px 1px 3px 1px rgba(0, 0, 0, 0.15);\n",
              "      filter: drop-shadow(0px 1px 2px rgba(0, 0, 0, 0.3));\n",
              "      fill: #FFFFFF;\n",
              "    }\n",
              "  </style>\n",
              "\n",
              "      <script>\n",
              "        const buttonEl =\n",
              "          document.querySelector('#df-c08cde04-9ecb-43a5-917b-62a7685300c2 button.colab-df-convert');\n",
              "        buttonEl.style.display =\n",
              "          google.colab.kernel.accessAllowed ? 'block' : 'none';\n",
              "\n",
              "        async function convertToInteractive(key) {\n",
              "          const element = document.querySelector('#df-c08cde04-9ecb-43a5-917b-62a7685300c2');\n",
              "          const dataTable =\n",
              "            await google.colab.kernel.invokeFunction('convertToInteractive',\n",
              "                                                     [key], {});\n",
              "          if (!dataTable) return;\n",
              "\n",
              "          const docLinkHtml = 'Like what you see? Visit the ' +\n",
              "            '<a target=\"_blank\" href=https://colab.research.google.com/notebooks/data_table.ipynb>data table notebook</a>'\n",
              "            + ' to learn more about interactive tables.';\n",
              "          element.innerHTML = '';\n",
              "          dataTable['output_type'] = 'display_data';\n",
              "          await google.colab.output.renderOutput(dataTable, element);\n",
              "          const docLink = document.createElement('div');\n",
              "          docLink.innerHTML = docLinkHtml;\n",
              "          element.appendChild(docLink);\n",
              "        }\n",
              "      </script>\n",
              "    </div>\n",
              "  </div>\n",
              "  "
            ]
          },
          "metadata": {},
          "execution_count": 270
        }
      ]
    },
    {
      "cell_type": "code",
      "source": [
        "scores_df['overall_total_score'].plot(kind='hist', alpha=0.3,\n",
        "                                      title='Distribution of Overall Score')"
      ],
      "metadata": {
        "colab": {
          "base_uri": "https://localhost:8080/",
          "height": 470
        },
        "id": "rE94abeCi54-",
        "outputId": "b3fe5db4-e0e1-4938-a613-2be41b12088d"
      },
      "execution_count": 277,
      "outputs": [
        {
          "output_type": "execute_result",
          "data": {
            "text/plain": [
              "<Axes: title={'center': 'Distribution of Overall Score'}, ylabel='Frequency'>"
            ]
          },
          "metadata": {},
          "execution_count": 277
        },
        {
          "output_type": "display_data",
          "data": {
            "text/plain": [
              "<Figure size 640x480 with 1 Axes>"
            ],
            "image/png": "[encoded data removed]"
          },
          "metadata": {}
        }
      ]
    },
    {
      "cell_type": "code",
      "source": [
        "top_comment_scores = scores_df[scores_df['overall_total_score']>1.5]['overall_total_score']\n",
        "print(\"Numbers of comments with total score greater than 1.5 :\", len(top_comment_scores)) "
      ],
      "metadata": {
        "colab": {
          "base_uri": "https://localhost:8080/"
        },
        "id": "LAWILhkfjdKT",
        "outputId": "c7dd4957-6419-4559-ed59-d1f3a903ffea"
      },
      "execution_count": 282,
      "outputs": [
        {
          "output_type": "stream",
          "name": "stdout",
          "text": [
            "Numbers of comments with total score greater than 1.5 : 200\n"
          ]
        }
      ]
    },
    {
      "cell_type": "code",
      "source": [
        "scores_df['Highest Score'] = False\n",
        "scores_df.loc[scores_df['overall_total_score']>1.5, 'Highest Score'] = True"
      ],
      "metadata": {
        "id": "rJZ-RO_Akl8R"
      },
      "execution_count": 286,
      "outputs": []
    },
    {
      "cell_type": "code",
      "source": [
        "top_comment_scores.plot(kind='hist', alpha=0.3,\n",
        "                                      title='Distribution of Overall Score')"
      ],
      "metadata": {
        "colab": {
          "base_uri": "https://localhost:8080/",
          "height": 470
        },
        "id": "nGOMjmfujcOs",
        "outputId": "24f6c4f4-cb14-4df7-9889-ebfe9a631d97"
      },
      "execution_count": 283,
      "outputs": [
        {
          "output_type": "execute_result",
          "data": {
            "text/plain": [
              "<Axes: title={'center': 'Distribution of Overall Score'}, ylabel='Frequency'>"
            ]
          },
          "metadata": {},
          "execution_count": 283
        },
        {
          "output_type": "display_data",
          "data": {
            "text/plain": [
              "<Figure size 640x480 with 1 Axes>"
            ],
            "image/png": "[encoded data removed]"
          },
          "metadata": {}
        }
      ]
    },
    {
      "cell_type": "code",
      "source": [
        "import matplotlib.pyplot as plt"
      ],
      "metadata": {
        "id": "J1WptSxqiD9l"
      },
      "execution_count": 283,
      "outputs": []
    },
    {
      "cell_type": "code",
      "source": [
        "scores_df['Highest Score'] = False\n",
        "scores_df.loc[scores_df['overall_total_score']>1, 'Highest Score'] = True"
      ],
      "metadata": {
        "id": "PVye-E5TmXcL"
      },
      "execution_count": 290,
      "outputs": []
    },
    {
      "cell_type": "code",
      "source": [
        "# create bar graph with color based on True/False column\n",
        "fig, ax = plt.subplots(figsize=(15,4))\n",
        "x = np.array(scores_df['ids'])\n",
        "y = np.array(scores_df['overall_total_score'])\n",
        "color = np.array(scores_df['Highest Score'])\n",
        "ax.bar(x[color], y[color], color='red', label='True')\n",
        "ax.bar(x[~color], y[~color], color='blue', label='False', alpha=0.3)\n",
        "ax.legend()\n",
        "\n",
        "# set x and y labels\n",
        "ax.set_xlabel('Comment IDs')\n",
        "ax.set_ylabel('Overall total Toxic Score')\n",
        "\n",
        "# show the plot\n",
        "plt.show()"
      ],
      "metadata": {
        "colab": {
          "base_uri": "https://localhost:8080/",
          "height": 360
        },
        "id": "oS6b-cAsha1q",
        "outputId": "7b5aeef2-0619-4ce9-bd57-017f72c2d283"
      },
      "execution_count": 292,
      "outputs": [
        {
          "output_type": "display_data",
          "data": {
            "text/plain": [
              "<Figure size 1500x400 with 1 Axes>"
            ],
            "image/png": "[encoded data removed]"
          },
          "metadata": {}
        }
      ]
    },
    {
      "cell_type": "code",
      "source": [],
      "metadata": {
        "id": "RQS-k399kzvX"
      },
      "execution_count": null,
      "outputs": []
    }
  ],
  "metadata": {
    "accelerator": "GPU",
    "colab": {
      "provenance": []
    },
    "gpuClass": "standard",
    "kernelspec": {
      "display_name": "Python 3",
      "language": "python",
      "name": "python3"
    },
    "language_info": {
      "codemirror_mode": {
        "name": "ipython",
        "version": 3
      },
      "file_extension": ".py",
      "mimetype": "text/x-python",
      "name": "python",
      "nbconvert_exporter": "python",
      "pygments_lexer": "ipython3",
      "version": "3.6.6"
    },
    "widgets": {
      "application/vnd.jupyter.widget-state+json": {
        "383934cfb0934eb2a342772965ad6521": {
          "model_module": "@jupyter-widgets/controls",
          "model_name": "HBoxModel",
          "model_module_version": "1.5.0",
          "state": {
            "_dom_classes": [],
            "_model_module": "@jupyter-widgets/controls",
            "_model_module_version": "1.5.0",
            "_model_name": "HBoxModel",
            "_view_count": null,
            "_view_module": "@jupyter-widgets/controls",
            "_view_module_version": "1.5.0",
            "_view_name": "HBoxView",
            "box_style": "",
            "children": [
              "IPY_MODEL_f28b99e03adf4fd49940248b1a3fb989",
              "IPY_MODEL_04d853919b3e4dc086d831cb47696919",
              "IPY_MODEL_2f4dd11db8c944e3a3d29995dd0cb851"
            ],
            "layout": "IPY_MODEL_c5a5ee6319db4cf4a99f1a14202e38f0"
          }
        },
        "f28b99e03adf4fd49940248b1a3fb989": {
          "model_module": "@jupyter-widgets/controls",
          "model_name": "HTMLModel",
          "model_module_version": "1.5.0",
          "state": {
            "_dom_classes": [],
            "_model_module": "@jupyter-widgets/controls",
            "_model_module_version": "1.5.0",
            "_model_name": "HTMLModel",
            "_view_count": null,
            "_view_module": "@jupyter-widgets/controls",
            "_view_module_version": "1.5.0",
            "_view_name": "HTMLView",
            "description": "",
            "description_tooltip": null,
            "layout": "IPY_MODEL_abdd33d264f3499aa1c6da0416e79514",
            "placeholder": "​",
            "style": "IPY_MODEL_47e613b1d2f549b5af70eeccf8af3ee3",
            "value": "100%"
          }
        },
        "04d853919b3e4dc086d831cb47696919": {
          "model_module": "@jupyter-widgets/controls",
          "model_name": "FloatProgressModel",
          "model_module_version": "1.5.0",
          "state": {
            "_dom_classes": [],
            "_model_module": "@jupyter-widgets/controls",
            "_model_module_version": "1.5.0",
            "_model_name": "FloatProgressModel",
            "_view_count": null,
            "_view_module": "@jupyter-widgets/controls",
            "_view_module_version": "1.5.0",
            "_view_name": "ProgressView",
            "bar_style": "success",
            "description": "",
            "description_tooltip": null,
            "layout": "IPY_MODEL_fe063067c4ba40c2be9f6e5c4f45662a",
            "max": 159571,
            "min": 0,
            "orientation": "horizontal",
            "style": "IPY_MODEL_2554713492b940b886c6cf0d4455f366",
            "value": 159571
          }
        },
        "2f4dd11db8c944e3a3d29995dd0cb851": {
          "model_module": "@jupyter-widgets/controls",
          "model_name": "HTMLModel",
          "model_module_version": "1.5.0",
          "state": {
            "_dom_classes": [],
            "_model_module": "@jupyter-widgets/controls",
            "_model_module_version": "1.5.0",
            "_model_name": "HTMLModel",
            "_view_count": null,
            "_view_module": "@jupyter-widgets/controls",
            "_view_module_version": "1.5.0",
            "_view_name": "HTMLView",
            "description": "",
            "description_tooltip": null,
            "layout": "IPY_MODEL_d6932d0fd8fd44d4b58fb1cbf21d85df",
            "placeholder": "​",
            "style": "IPY_MODEL_99e7f6b6fe6942c7895a3717dde658b3",
            "value": " 159571/159571 [02:25&lt;00:00, 1324.23it/s]"
          }
        },
        "c5a5ee6319db4cf4a99f1a14202e38f0": {
          "model_module": "@jupyter-widgets/base",
          "model_name": "LayoutModel",
          "model_module_version": "1.2.0",
          "state": {
            "_model_module": "@jupyter-widgets/base",
            "_model_module_version": "1.2.0",
            "_model_name": "LayoutModel",
            "_view_count": null,
            "_view_module": "@jupyter-widgets/base",
            "_view_module_version": "1.2.0",
            "_view_name": "LayoutView",
            "align_content": null,
            "align_items": null,
            "align_self": null,
            "border": null,
            "bottom": null,
            "display": null,
            "flex": null,
            "flex_flow": null,
            "grid_area": null,
            "grid_auto_columns": null,
            "grid_auto_flow": null,
            "grid_auto_rows": null,
            "grid_column": null,
            "grid_gap": null,
            "grid_row": null,
            "grid_template_areas": null,
            "grid_template_columns": null,
            "grid_template_rows": null,
            "height": null,
            "justify_content": null,
            "justify_items": null,
            "left": null,
            "margin": null,
            "max_height": null,
            "max_width": null,
            "min_height": null,
            "min_width": null,
            "object_fit": null,
            "object_position": null,
            "order": null,
            "overflow": null,
            "overflow_x": null,
            "overflow_y": null,
            "padding": null,
            "right": null,
            "top": null,
            "visibility": null,
            "width": null
          }
        },
        "abdd33d264f3499aa1c6da0416e79514": {
          "model_module": "@jupyter-widgets/base",
          "model_name": "LayoutModel",
          "model_module_version": "1.2.0",
          "state": {
            "_model_module": "@jupyter-widgets/base",
            "_model_module_version": "1.2.0",
            "_model_name": "LayoutModel",
            "_view_count": null,
            "_view_module": "@jupyter-widgets/base",
            "_view_module_version": "1.2.0",
            "_view_name": "LayoutView",
            "align_content": null,
            "align_items": null,
            "align_self": null,
            "border": null,
            "bottom": null,
            "display": null,
            "flex": null,
            "flex_flow": null,
            "grid_area": null,
            "grid_auto_columns": null,
            "grid_auto_flow": null,
            "grid_auto_rows": null,
            "grid_column": null,
            "grid_gap": null,
            "grid_row": null,
            "grid_template_areas": null,
            "grid_template_columns": null,
            "grid_template_rows": null,
            "height": null,
            "justify_content": null,
            "justify_items": null,
            "left": null,
            "margin": null,
            "max_height": null,
            "max_width": null,
            "min_height": null,
            "min_width": null,
            "object_fit": null,
            "object_position": null,
            "order": null,
            "overflow": null,
            "overflow_x": null,
            "overflow_y": null,
            "padding": null,
            "right": null,
            "top": null,
            "visibility": null,
            "width": null
          }
        },
        "47e613b1d2f549b5af70eeccf8af3ee3": {
          "model_module": "@jupyter-widgets/controls",
          "model_name": "DescriptionStyleModel",
          "model_module_version": "1.5.0",
          "state": {
            "_model_module": "@jupyter-widgets/controls",
            "_model_module_version": "1.5.0",
            "_model_name": "DescriptionStyleModel",
            "_view_count": null,
            "_view_module": "@jupyter-widgets/base",
            "_view_module_version": "1.2.0",
            "_view_name": "StyleView",
            "description_width": ""
          }
        },
        "fe063067c4ba40c2be9f6e5c4f45662a": {
          "model_module": "@jupyter-widgets/base",
          "model_name": "LayoutModel",
          "model_module_version": "1.2.0",
          "state": {
            "_model_module": "@jupyter-widgets/base",
            "_model_module_version": "1.2.0",
            "_model_name": "LayoutModel",
            "_view_count": null,
            "_view_module": "@jupyter-widgets/base",
            "_view_module_version": "1.2.0",
            "_view_name": "LayoutView",
            "align_content": null,
            "align_items": null,
            "align_self": null,
            "border": null,
            "bottom": null,
            "display": null,
            "flex": null,
            "flex_flow": null,
            "grid_area": null,
            "grid_auto_columns": null,
            "grid_auto_flow": null,
            "grid_auto_rows": null,
            "grid_column": null,
            "grid_gap": null,
            "grid_row": null,
            "grid_template_areas": null,
            "grid_template_columns": null,
            "grid_template_rows": null,
            "height": null,
            "justify_content": null,
            "justify_items": null,
            "left": null,
            "margin": null,
            "max_height": null,
            "max_width": null,
            "min_height": null,
            "min_width": null,
            "object_fit": null,
            "object_position": null,
            "order": null,
            "overflow": null,
            "overflow_x": null,
            "overflow_y": null,
            "padding": null,
            "right": null,
            "top": null,
            "visibility": null,
            "width": null
          }
        },
        "2554713492b940b886c6cf0d4455f366": {
          "model_module": "@jupyter-widgets/controls",
          "model_name": "ProgressStyleModel",
          "model_module_version": "1.5.0",
          "state": {
            "_model_module": "@jupyter-widgets/controls",
            "_model_module_version": "1.5.0",
            "_model_name": "ProgressStyleModel",
            "_view_count": null,
            "_view_module": "@jupyter-widgets/base",
            "_view_module_version": "1.2.0",
            "_view_name": "StyleView",
            "bar_color": null,
            "description_width": ""
          }
        },
        "d6932d0fd8fd44d4b58fb1cbf21d85df": {
          "model_module": "@jupyter-widgets/base",
          "model_name": "LayoutModel",
          "model_module_version": "1.2.0",
          "state": {
            "_model_module": "@jupyter-widgets/base",
            "_model_module_version": "1.2.0",
            "_model_name": "LayoutModel",
            "_view_count": null,
            "_view_module": "@jupyter-widgets/base",
            "_view_module_version": "1.2.0",
            "_view_name": "LayoutView",
            "align_content": null,
            "align_items": null,
            "align_self": null,
            "border": null,
            "bottom": null,
            "display": null,
            "flex": null,
            "flex_flow": null,
            "grid_area": null,
            "grid_auto_columns": null,
            "grid_auto_flow": null,
            "grid_auto_rows": null,
            "grid_column": null,
            "grid_gap": null,
            "grid_row": null,
            "grid_template_areas": null,
            "grid_template_columns": null,
            "grid_template_rows": null,
            "height": null,
            "justify_content": null,
            "justify_items": null,
            "left": null,
            "margin": null,
            "max_height": null,
            "max_width": null,
            "min_height": null,
            "min_width": null,
            "object_fit": null,
            "object_position": null,
            "order": null,
            "overflow": null,
            "overflow_x": null,
            "overflow_y": null,
            "padding": null,
            "right": null,
            "top": null,
            "visibility": null,
            "width": null
          }
        },
        "99e7f6b6fe6942c7895a3717dde658b3": {
          "model_module": "@jupyter-widgets/controls",
          "model_name": "DescriptionStyleModel",
          "model_module_version": "1.5.0",
          "state": {
            "_model_module": "@jupyter-widgets/controls",
            "_model_module_version": "1.5.0",
            "_model_name": "DescriptionStyleModel",
            "_view_count": null,
            "_view_module": "@jupyter-widgets/base",
            "_view_module_version": "1.2.0",
            "_view_name": "StyleView",
            "description_width": ""
          }
        }
      }
    }
  },
  "nbformat": 4,
  "nbformat_minor": 0
}