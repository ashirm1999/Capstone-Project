{
  "metadata": {
    "kernelspec": {
      "language": "python",
      "display_name": "Python 3",
      "name": "python3"
    },
    "language_info": {
      "name": "python",
      "version": "3.6.6",
      "mimetype": "text/x-python",
      "codemirror_mode": {
        "name": "ipython",
        "version": 3
      },
      "pygments_lexer": "ipython3",
      "nbconvert_exporter": "python",
      "file_extension": ".py"
    },
    "colab": {
      "provenance": []
    },
    "widgets": {
      "application/vnd.jupyter.widget-state+json": {
        "375254b76a6d45f4a9af8e92090706cb": {
          "model_module": "@jupyter-widgets/controls",
          "model_name": "HBoxModel",
          "model_module_version": "1.5.0",
          "state": {
            "_dom_classes": [],
            "_model_module": "@jupyter-widgets/controls",
            "_model_module_version": "1.5.0",
            "_model_name": "HBoxModel",
            "_view_count": null,
            "_view_module": "@jupyter-widgets/controls",
            "_view_module_version": "1.5.0",
            "_view_name": "HBoxView",
            "box_style": "",
            "children": [
              "IPY_MODEL_f3510e087cf642568fe8fbb25a72ced2",
              "IPY_MODEL_34c7769dc4274b769e1e4ab4cbe65871",
              "IPY_MODEL_e0f9d85472204deba4226ca7f7143035"
            ],
            "layout": "IPY_MODEL_9e9f748b0dbf407b9d67ab65fe57cb32"
          }
        },
        "f3510e087cf642568fe8fbb25a72ced2": {
          "model_module": "@jupyter-widgets/controls",
          "model_name": "HTMLModel",
          "model_module_version": "1.5.0",
          "state": {
            "_dom_classes": [],
            "_model_module": "@jupyter-widgets/controls",
            "_model_module_version": "1.5.0",
            "_model_name": "HTMLModel",
            "_view_count": null,
            "_view_module": "@jupyter-widgets/controls",
            "_view_module_version": "1.5.0",
            "_view_name": "HTMLView",
            "description": "",
            "description_tooltip": null,
            "layout": "IPY_MODEL_4e5408c62e6f49109557ee884a81f594",
            "placeholder": "​",
            "style": "IPY_MODEL_4d730b493bd848a6af04651a0c6a0e7c",
            "value": "100%"
          }
        },
        "34c7769dc4274b769e1e4ab4cbe65871": {
          "model_module": "@jupyter-widgets/controls",
          "model_name": "FloatProgressModel",
          "model_module_version": "1.5.0",
          "state": {
            "_dom_classes": [],
            "_model_module": "@jupyter-widgets/controls",
            "_model_module_version": "1.5.0",
            "_model_name": "FloatProgressModel",
            "_view_count": null,
            "_view_module": "@jupyter-widgets/controls",
            "_view_module_version": "1.5.0",
            "_view_name": "ProgressView",
            "bar_style": "success",
            "description": "",
            "description_tooltip": null,
            "layout": "IPY_MODEL_bf79ed26f9524874ae603020dfbfac6d",
            "max": 159571,
            "min": 0,
            "orientation": "horizontal",
            "style": "IPY_MODEL_7124c465d78d4f6cad983e06c1b8da5c",
            "value": 159571
          }
        },
        "e0f9d85472204deba4226ca7f7143035": {
          "model_module": "@jupyter-widgets/controls",
          "model_name": "HTMLModel",
          "model_module_version": "1.5.0",
          "state": {
            "_dom_classes": [],
            "_model_module": "@jupyter-widgets/controls",
            "_model_module_version": "1.5.0",
            "_model_name": "HTMLModel",
            "_view_count": null,
            "_view_module": "@jupyter-widgets/controls",
            "_view_module_version": "1.5.0",
            "_view_name": "HTMLView",
            "description": "",
            "description_tooltip": null,
            "layout": "IPY_MODEL_5fee5335caf54512a4a3e3413dfb382b",
            "placeholder": "​",
            "style": "IPY_MODEL_e7b6598b144a44089a6385a0a29cfd94",
            "value": " 159571/159571 [02:36&lt;00:00, 1136.85it/s]"
          }
        },
        "9e9f748b0dbf407b9d67ab65fe57cb32": {
          "model_module": "@jupyter-widgets/base",
          "model_name": "LayoutModel",
          "model_module_version": "1.2.0",
          "state": {
            "_model_module": "@jupyter-widgets/base",
            "_model_module_version": "1.2.0",
            "_model_name": "LayoutModel",
            "_view_count": null,
            "_view_module": "@jupyter-widgets/base",
            "_view_module_version": "1.2.0",
            "_view_name": "LayoutView",
            "align_content": null,
            "align_items": null,
            "align_self": null,
            "border": null,
            "bottom": null,
            "display": null,
            "flex": null,
            "flex_flow": null,
            "grid_area": null,
            "grid_auto_columns": null,
            "grid_auto_flow": null,
            "grid_auto_rows": null,
            "grid_column": null,
            "grid_gap": null,
            "grid_row": null,
            "grid_template_areas": null,
            "grid_template_columns": null,
            "grid_template_rows": null,
            "height": null,
            "justify_content": null,
            "justify_items": null,
            "left": null,
            "margin": null,
            "max_height": null,
            "max_width": null,
            "min_height": null,
            "min_width": null,
            "object_fit": null,
            "object_position": null,
            "order": null,
            "overflow": null,
            "overflow_x": null,
            "overflow_y": null,
            "padding": null,
            "right": null,
            "top": null,
            "visibility": null,
            "width": null
          }
        },
        "4e5408c62e6f49109557ee884a81f594": {
          "model_module": "@jupyter-widgets/base",
          "model_name": "LayoutModel",
          "model_module_version": "1.2.0",
          "state": {
            "_model_module": "@jupyter-widgets/base",
            "_model_module_version": "1.2.0",
            "_model_name": "LayoutModel",
            "_view_count": null,
            "_view_module": "@jupyter-widgets/base",
            "_view_module_version": "1.2.0",
            "_view_name": "LayoutView",
            "align_content": null,
            "align_items": null,
            "align_self": null,
            "border": null,
            "bottom": null,
            "display": null,
            "flex": null,
            "flex_flow": null,
            "grid_area": null,
            "grid_auto_columns": null,
            "grid_auto_flow": null,
            "grid_auto_rows": null,
            "grid_column": null,
            "grid_gap": null,
            "grid_row": null,
            "grid_template_areas": null,
            "grid_template_columns": null,
            "grid_template_rows": null,
            "height": null,
            "justify_content": null,
            "justify_items": null,
            "left": null,
            "margin": null,
            "max_height": null,
            "max_width": null,
            "min_height": null,
            "min_width": null,
            "object_fit": null,
            "object_position": null,
            "order": null,
            "overflow": null,
            "overflow_x": null,
            "overflow_y": null,
            "padding": null,
            "right": null,
            "top": null,
            "visibility": null,
            "width": null
          }
        },
        "4d730b493bd848a6af04651a0c6a0e7c": {
          "model_module": "@jupyter-widgets/controls",
          "model_name": "DescriptionStyleModel",
          "model_module_version": "1.5.0",
          "state": {
            "_model_module": "@jupyter-widgets/controls",
            "_model_module_version": "1.5.0",
            "_model_name": "DescriptionStyleModel",
            "_view_count": null,
            "_view_module": "@jupyter-widgets/base",
            "_view_module_version": "1.2.0",
            "_view_name": "StyleView",
            "description_width": ""
          }
        },
        "bf79ed26f9524874ae603020dfbfac6d": {
          "model_module": "@jupyter-widgets/base",
          "model_name": "LayoutModel",
          "model_module_version": "1.2.0",
          "state": {
            "_model_module": "@jupyter-widgets/base",
            "_model_module_version": "1.2.0",
            "_model_name": "LayoutModel",
            "_view_count": null,
            "_view_module": "@jupyter-widgets/base",
            "_view_module_version": "1.2.0",
            "_view_name": "LayoutView",
            "align_content": null,
            "align_items": null,
            "align_self": null,
            "border": null,
            "bottom": null,
            "display": null,
            "flex": null,
            "flex_flow": null,
            "grid_area": null,
            "grid_auto_columns": null,
            "grid_auto_flow": null,
            "grid_auto_rows": null,
            "grid_column": null,
            "grid_gap": null,
            "grid_row": null,
            "grid_template_areas": null,
            "grid_template_columns": null,
            "grid_template_rows": null,
            "height": null,
            "justify_content": null,
            "justify_items": null,
            "left": null,
            "margin": null,
            "max_height": null,
            "max_width": null,
            "min_height": null,
            "min_width": null,
            "object_fit": null,
            "object_position": null,
            "order": null,
            "overflow": null,
            "overflow_x": null,
            "overflow_y": null,
            "padding": null,
            "right": null,
            "top": null,
            "visibility": null,
            "width": null
          }
        },
        "7124c465d78d4f6cad983e06c1b8da5c": {
          "model_module": "@jupyter-widgets/controls",
          "model_name": "ProgressStyleModel",
          "model_module_version": "1.5.0",
          "state": {
            "_model_module": "@jupyter-widgets/controls",
            "_model_module_version": "1.5.0",
            "_model_name": "ProgressStyleModel",
            "_view_count": null,
            "_view_module": "@jupyter-widgets/base",
            "_view_module_version": "1.2.0",
            "_view_name": "StyleView",
            "bar_color": null,
            "description_width": ""
          }
        },
        "5fee5335caf54512a4a3e3413dfb382b": {
          "model_module": "@jupyter-widgets/base",
          "model_name": "LayoutModel",
          "model_module_version": "1.2.0",
          "state": {
            "_model_module": "@jupyter-widgets/base",
            "_model_module_version": "1.2.0",
            "_model_name": "LayoutModel",
            "_view_count": null,
            "_view_module": "@jupyter-widgets/base",
            "_view_module_version": "1.2.0",
            "_view_name": "LayoutView",
            "align_content": null,
            "align_items": null,
            "align_self": null,
            "border": null,
            "bottom": null,
            "display": null,
            "flex": null,
            "flex_flow": null,
            "grid_area": null,
            "grid_auto_columns": null,
            "grid_auto_flow": null,
            "grid_auto_rows": null,
            "grid_column": null,
            "grid_gap": null,
            "grid_row": null,
            "grid_template_areas": null,
            "grid_template_columns": null,
            "grid_template_rows": null,
            "height": null,
            "justify_content": null,
            "justify_items": null,
            "left": null,
            "margin": null,
            "max_height": null,
            "max_width": null,
            "min_height": null,
            "min_width": null,
            "object_fit": null,
            "object_position": null,
            "order": null,
            "overflow": null,
            "overflow_x": null,
            "overflow_y": null,
            "padding": null,
            "right": null,
            "top": null,
            "visibility": null,
            "width": null
          }
        },
        "e7b6598b144a44089a6385a0a29cfd94": {
          "model_module": "@jupyter-widgets/controls",
          "model_name": "DescriptionStyleModel",
          "model_module_version": "1.5.0",
          "state": {
            "_model_module": "@jupyter-widgets/controls",
            "_model_module_version": "1.5.0",
            "_model_name": "DescriptionStyleModel",
            "_view_count": null,
            "_view_module": "@jupyter-widgets/base",
            "_view_module_version": "1.2.0",
            "_view_name": "StyleView",
            "description_width": ""
          }
        }
      }
    }
  },
  "nbformat_minor": 0,
  "nbformat": 4,
  "cells": [
    {
      "cell_type": "markdown",
      "source": [
        "we experimented with the target columns i.e. we have 6 target classes, we assigned a new label based on the unique combination of labels that we see in these label values i.e. we will have 64 combinations."
      ],
      "metadata": {
        "id": "SVQ_9dufdT-A"
      }
    },
    {
      "cell_type": "code",
      "source": [
        "!pip install transformers==2.3.0"
      ],
      "metadata": {
        "id": "SuY02mplBrDy",
        "execution": {
          "iopub.status.busy": "2023-03-28T18:06:42.755482Z",
          "iopub.execute_input": "2023-03-28T18:06:42.755788Z",
          "iopub.status.idle": "2023-03-28T18:06:51.919812Z",
          "shell.execute_reply.started": "2023-03-28T18:06:42.755740Z",
          "shell.execute_reply": "2023-03-28T18:06:51.918848Z"
        },
        "trusted": true
      },
      "execution_count": null,
      "outputs": []
    },
    {
      "cell_type": "code",
      "source": [
        "# from tqdm.notebook import tqdm\n",
        "import numpy as np\n",
        "import pandas as pd\n",
        "import tensorflow as tf\n",
        "from tqdm.notebook import tqdm\n",
        "import os\n",
        "from sklearn.metrics import accuracy_score\n",
        "from sklearn.metrics import precision_score\n",
        "from sklearn.metrics import recall_score\n",
        "from sklearn.metrics import f1_score\n",
        "from sklearn.metrics import roc_auc_score\n",
        "from sklearn.metrics import classification_report"
      ],
      "metadata": {
        "id": "aGa2jmNmCjXf",
        "execution": {
          "iopub.status.busy": "2023-03-28T18:08:53.084669Z",
          "iopub.execute_input": "2023-03-28T18:08:53.085027Z",
          "iopub.status.idle": "2023-03-28T18:08:53.089923Z",
          "shell.execute_reply.started": "2023-03-28T18:08:53.084971Z",
          "shell.execute_reply": "2023-03-28T18:08:53.088949Z"
        },
        "trusted": true
      },
      "execution_count": null,
      "outputs": []
    },
    {
      "cell_type": "code",
      "source": [
        "from google.colab import drive\n",
        "drive.mount('/content/drive')"
      ],
      "metadata": {
        "id": "_ScqAyycdnU0",
        "colab": {
          "base_uri": "https://localhost:8080/"
        },
        "outputId": "83b33315-c65a-4184-d647-060ff69e8dbc"
      },
      "execution_count": null,
      "outputs": [
        {
          "output_type": "stream",
          "name": "stdout",
          "text": [
            "Mounted at /content/drive\n"
          ]
        }
      ]
    },
    {
      "cell_type": "markdown",
      "source": [
        "#### Loading the data"
      ],
      "metadata": {
        "id": "vETsesAydT-G"
      }
    },
    {
      "cell_type": "code",
      "source": [
        "def getpreferredencoding(do_setlocale = True):\n",
        "  return \"UTF-8\"\n",
        "import locale\n",
        "locale.getpreferredencoding = getpreferredencoding"
      ],
      "metadata": {
        "id": "UCF7ZTrjeAnT"
      },
      "execution_count": null,
      "outputs": []
    },
    {
      "cell_type": "code",
      "source": [
        "path = '/content/drive/MyDrive/Capstone Data/Phase 2/final_data.pkl'\n",
        "train_df = pd.read_pickle(path, compression = 'gzip')\n",
        "\n",
        "features = ['sentence_count', 'word_count', 'unique_word_count', \n",
        "            'length', 'punctuation_count', 'upper_case_count', \n",
        "            'stopword_count', '#_count', 'unique_word_count_percent', \n",
        "            'Punctuation_percent', 'ip_count','link_count', \n",
        "            'article_id_count', 'username_count', 'clean_comment']\n",
        "\n",
        "target_cols = ['toxic', 'severe_toxic', 'obscene', 'threat',\n",
        "               'insult', 'identity_hate']\n",
        "train_df = train_df.dropna()\n",
        "\n",
        "# Seperating features and target variable\n",
        "x = train_df[features]\n",
        "y = train_df[target_cols]\n"
      ],
      "metadata": {
        "id": "5FuPBMEX_Lxv",
        "execution": {
          "iopub.status.busy": "2023-03-28T18:21:32.584299Z",
          "iopub.execute_input": "2023-03-28T18:21:32.584670Z",
          "iopub.status.idle": "2023-03-28T18:21:32.628092Z",
          "shell.execute_reply.started": "2023-03-28T18:21:32.584608Z",
          "shell.execute_reply": "2023-03-28T18:21:32.626368Z"
        },
        "trusted": true
      },
      "execution_count": null,
      "outputs": []
    },
    {
      "cell_type": "code",
      "source": [
        "# Converting combination of y label to single value by considering a unique label \n",
        "# value for each combination of the labels present\n",
        "unique_combinations = (y.drop_duplicates().reset_index(drop=True))\n",
        "print(\"Number of Unique Combinations: \", len(unique_combinations))\n",
        "unique_combinations = unique_combinations.reset_index()\n",
        "y = pd.merge(y, unique_combinations,  how='left', left_on =target_cols, right_on = target_cols)['index']"
      ],
      "metadata": {
        "colab": {
          "base_uri": "https://localhost:8080/"
        },
        "id": "S2AgF16LSntD",
        "outputId": "d4439aa8-aa3e-4cba-84a4-f0890005039a"
      },
      "execution_count": null,
      "outputs": [
        {
          "output_type": "stream",
          "name": "stdout",
          "text": [
            "Number of Unique Combinations:  41\n"
          ]
        }
      ]
    },
    {
      "cell_type": "code",
      "source": [
        "ax = y.value_counts().plot(kind='bar', title='Distribution of Labels')\n",
        "\n",
        "ax.set_xlabel(\"Label Value\")\n",
        "ax.set_ylabel(\"Count\")"
      ],
      "metadata": {
        "colab": {
          "base_uri": "https://localhost:8080/",
          "height": 493
        },
        "id": "glPM9rcnThGZ",
        "outputId": "59d633be-2159-4dd9-e7d3-bcb531d63753"
      },
      "execution_count": null,
      "outputs": [
        {
          "output_type": "execute_result",
          "data": {
            "text/plain": [
              "Text(0, 0.5, 'Count')"
            ]
          },
          "metadata": {},
          "execution_count": 57
        },
        {
          "output_type": "display_data",
          "data": {
            "text/plain": [
              "<Figure size 640x480 with 1 Axes>"
            ],
            "image/png": "[encoded data removed]"
          },
          "metadata": {}
        }
      ]
    },
    {
      "cell_type": "markdown",
      "source": [
        "As expected majority of the comments are non toxic thus fall under 0th label"
      ],
      "metadata": {
        "id": "vlOX7V4OauCD"
      }
    },
    {
      "cell_type": "code",
      "source": [
        "# Looking more closely at the class distribution excluding the zero class\n",
        "ax = y[y!=0].value_counts().plot(kind='bar', title='Distribution of Labels exclusing the Zero class')\n",
        "\n",
        "ax.set_xlabel(\"Label Value\")\n",
        "ax.set_ylabel(\"Count\")"
      ],
      "metadata": {
        "colab": {
          "base_uri": "https://localhost:8080/",
          "height": 493
        },
        "id": "rpf6pqCJatLw",
        "outputId": "2d5630d6-4123-4bd9-afc5-8a3925e6db8f"
      },
      "execution_count": null,
      "outputs": [
        {
          "output_type": "execute_result",
          "data": {
            "text/plain": [
              "Text(0, 0.5, 'Count')"
            ]
          },
          "metadata": {},
          "execution_count": 63
        },
        {
          "output_type": "display_data",
          "data": {
            "text/plain": [
              "<Figure size 640x480 with 1 Axes>"
            ],
            "image/png": "[encoded data removed]"
          },
          "metadata": {}
        }
      ]
    },
    {
      "cell_type": "markdown",
      "source": [
        "#### Supporting Functions"
      ],
      "metadata": {
        "id": "vBVS0pWrF0LI"
      }
    },
    {
      "cell_type": "code",
      "source": [
        "def evaluation_metrics(y_test, y_pred):\n",
        "    result = {}\n",
        "    result['Accuracy'] = accuracy_score(y_test, y_pred)\n",
        "    result['Precision'] = precision_score(y_test, y_pred, average='weighted')\n",
        "    result['Recall'] = recall_score(y_test, y_pred, average='weighted')\n",
        "    result['F1 Score'] = f1_score(y_test, y_pred, average='weighted')\n",
        "    return result"
      ],
      "metadata": {
        "id": "cczIIc7bF4JR"
      },
      "execution_count": null,
      "outputs": []
    },
    {
      "cell_type": "markdown",
      "source": [
        "# BERT Encoding"
      ],
      "metadata": {
        "id": "5635s77bFl9P"
      }
    },
    {
      "cell_type": "code",
      "source": [
        "from transformers import BertTokenizer\n",
        "from tensorflow.keras.preprocessing.sequence import pad_sequences\n",
        "\n",
        "bert_model_name = 'bert-base-uncased'\n",
        "\n",
        "tokenizer = BertTokenizer.from_pretrained(bert_model_name, do_lower_case=True)\n",
        "MAX_LEN = 128\n",
        "\n",
        "def tokenize_sentences(sentences, tokenizer, max_seq_len = 128):\n",
        "    tokenized_sentences = []\n",
        "\n",
        "    for sentence in tqdm(sentences):\n",
        "        tokenized_sentence = tokenizer.encode(\n",
        "                            sentence,                  # Sentence to encode.\n",
        "                            add_special_tokens = True, # Add '[CLS]' and '[SEP]'\n",
        "                            max_length = max_seq_len,  # Truncate all sentences.\n",
        "                    )\n",
        "        \n",
        "        tokenized_sentences.append(tokenized_sentence)\n",
        "\n",
        "    return tokenized_sentences\n",
        "\n",
        "def create_attention_masks(tokenized_and_padded_sentences):\n",
        "    attention_masks = []\n",
        "\n",
        "    for sentence in tokenized_and_padded_sentences:\n",
        "        att_mask = [int(token_id > 0) for token_id in sentence]\n",
        "        attention_masks.append(att_mask)\n",
        "\n",
        "    return np.asarray(attention_masks)\n",
        "\n",
        "input_ids = tokenize_sentences(x['clean_comment'], tokenizer, MAX_LEN)\n",
        "input_ids = pad_sequences(input_ids, maxlen=MAX_LEN, dtype=\"long\", value=0, truncating=\"post\", padding=\"post\")\n",
        "attention_masks = create_attention_masks(input_ids)"
      ],
      "metadata": {
        "id": "g-8WnPfD_35q",
        "outputId": "2dc745d7-0210-4917-fc65-f9659b5d1bbc",
        "trusted": true,
        "colab": {
          "base_uri": "https://localhost:8080/",
          "height": 49,
          "referenced_widgets": [
            "375254b76a6d45f4a9af8e92090706cb",
            "f3510e087cf642568fe8fbb25a72ced2",
            "34c7769dc4274b769e1e4ab4cbe65871",
            "e0f9d85472204deba4226ca7f7143035",
            "9e9f748b0dbf407b9d67ab65fe57cb32",
            "4e5408c62e6f49109557ee884a81f594",
            "4d730b493bd848a6af04651a0c6a0e7c",
            "bf79ed26f9524874ae603020dfbfac6d",
            "7124c465d78d4f6cad983e06c1b8da5c",
            "5fee5335caf54512a4a3e3413dfb382b",
            "e7b6598b144a44089a6385a0a29cfd94"
          ]
        }
      },
      "execution_count": null,
      "outputs": [
        {
          "output_type": "display_data",
          "data": {
            "text/plain": [
              "  0%|          | 0/159571 [00:00<?, ?it/s]"
            ],
            "application/vnd.jupyter.widget-view+json": {
              "version_major": 2,
              "version_minor": 0,
              "model_id": "375254b76a6d45f4a9af8e92090706cb"
            }
          },
          "metadata": {}
        }
      ]
    },
    {
      "cell_type": "code",
      "source": [
        "features.remove('clean_comment')"
      ],
      "metadata": {
        "id": "u3AmMNGbhMEs"
      },
      "execution_count": null,
      "outputs": []
    },
    {
      "cell_type": "code",
      "source": [
        "merged_x = np.hstack((attention_masks, np.array(x[features])))\n",
        "merged_x.shape"
      ],
      "metadata": {
        "colab": {
          "base_uri": "https://localhost:8080/"
        },
        "id": "jBPajxsogrgm",
        "outputId": "5c131609-a58e-421f-e02e-508a08d8e71c"
      },
      "execution_count": null,
      "outputs": [
        {
          "output_type": "execute_result",
          "data": {
            "text/plain": [
              "(159571, 142)"
            ]
          },
          "metadata": {},
          "execution_count": 67
        }
      ]
    },
    {
      "cell_type": "code",
      "source": [
        "# Splitting the data into train and test dataset\n",
        "from sklearn.model_selection import train_test_split\n",
        "train_x, test_x, train_y, test_y = train_test_split(np.array(merged_x), np.array(y), \n",
        "                                            test_size = 0.2, random_state = 2)"
      ],
      "metadata": {
        "id": "Li9S_5ajj6nz"
      },
      "execution_count": null,
      "outputs": []
    },
    {
      "cell_type": "code",
      "source": [
        "no_rows = train_x.shape[0]\n",
        "no_cols = train_x.shape[1]"
      ],
      "metadata": {
        "id": "ESF010vSk4dU"
      },
      "execution_count": null,
      "outputs": []
    },
    {
      "cell_type": "markdown",
      "source": [
        "#### Logistic Regression"
      ],
      "metadata": {
        "id": "Wb54majEGPx1"
      }
    },
    {
      "cell_type": "code",
      "source": [
        "from sklearn.linear_model import LogisticRegression\n",
        "model = LogisticRegression(random_state=0).fit(train_x, train_y)\n",
        "pred = model.predict(test_x)\n",
        "res = evaluation_metrics(test_y,pred)\n",
        "res"
      ],
      "metadata": {
        "colab": {
          "base_uri": "https://localhost:8080/"
        },
        "id": "jwUJKiwSeACO",
        "outputId": "7b2d1588-9118-43bb-ef34-9028f207e0d1"
      },
      "execution_count": null,
      "outputs": [
        {
          "output_type": "stream",
          "name": "stderr",
          "text": [
            "/usr/local/lib/python3.9/dist-packages/sklearn/linear_model/_logistic.py:458: ConvergenceWarning: lbfgs failed to converge (status=1):\n",
            "STOP: TOTAL NO. of ITERATIONS REACHED LIMIT.\n",
            "\n",
            "Increase the number of iterations (max_iter) or scale the data as shown in:\n",
            "    https://scikit-learn.org/stable/modules/preprocessing.html\n",
            "Please also refer to the documentation for alternative solver options:\n",
            "    https://scikit-learn.org/stable/modules/linear_model.html#logistic-regression\n",
            "  n_iter_i = _check_optimize_result(\n",
            "/usr/local/lib/python3.9/dist-packages/sklearn/metrics/_classification.py:1344: UndefinedMetricWarning: Precision is ill-defined and being set to 0.0 in labels with no predicted samples. Use `zero_division` parameter to control this behavior.\n",
            "  _warn_prf(average, modifier, msg_start, len(result))\n"
          ]
        },
        {
          "output_type": "execute_result",
          "data": {
            "text/plain": [
              "{'Accuracy': 0.8974463418455272,\n",
              " 'Precision': 0.816854051454178,\n",
              " 'Recall': 0.8974463418455272,\n",
              " 'F1 Score': 0.8506985338393765}"
            ]
          },
          "metadata": {},
          "execution_count": 73
        }
      ]
    },
    {
      "cell_type": "markdown",
      "source": [
        "#### Gaussian NB"
      ],
      "metadata": {
        "id": "BOWkvyQEGSMU"
      }
    },
    {
      "cell_type": "code",
      "source": [
        "from sklearn.naive_bayes import GaussianNB\n",
        "\n",
        "clf = GaussianNB()\n",
        "clf.fit(train_x, train_y)\n",
        "pred = clf.predict(test_x)\n",
        "res = evaluation_metrics(test_y,pred)\n",
        "res"
      ],
      "metadata": {
        "colab": {
          "base_uri": "https://localhost:8080/"
        },
        "id": "CZHumohZGsSk",
        "outputId": "d240bd27-3509-4cae-ef9a-9718b253863a"
      },
      "execution_count": null,
      "outputs": [
        {
          "output_type": "stream",
          "name": "stderr",
          "text": [
            "/usr/local/lib/python3.9/dist-packages/sklearn/metrics/_classification.py:1344: UndefinedMetricWarning: Precision is ill-defined and being set to 0.0 in labels with no predicted samples. Use `zero_division` parameter to control this behavior.\n",
            "  _warn_prf(average, modifier, msg_start, len(result))\n",
            "/usr/local/lib/python3.9/dist-packages/sklearn/metrics/_classification.py:1344: UndefinedMetricWarning: Recall is ill-defined and being set to 0.0 in labels with no true samples. Use `zero_division` parameter to control this behavior.\n",
            "  _warn_prf(average, modifier, msg_start, len(result))\n"
          ]
        },
        {
          "output_type": "execute_result",
          "data": {
            "text/plain": [
              "{'Accuracy': 0.002036659877800407,\n",
              " 'Precision': 0.8390868270443158,\n",
              " 'Recall': 0.002036659877800407,\n",
              " 'F1 Score': 0.003713474476017509}"
            ]
          },
          "metadata": {},
          "execution_count": 75
        }
      ]
    },
    {
      "cell_type": "markdown",
      "source": [
        "#### Decision Tree"
      ],
      "metadata": {
        "id": "i03DXvxXH1zb"
      }
    },
    {
      "cell_type": "code",
      "source": [
        "from warnings import resetwarnings\n",
        "from sklearn import tree\n",
        "\n",
        "clf = tree.DecisionTreeClassifier()\n",
        "clf.fit(train_x, train_y)\n",
        "pred = clf.predict(test_x)\n",
        "res = evaluation_metrics(test_y,pred)\n",
        "res"
      ],
      "metadata": {
        "colab": {
          "base_uri": "https://localhost:8080/"
        },
        "id": "2NWHEMFfKR1k",
        "outputId": "f8cab137-863b-4767-c307-8e428a0b29b7"
      },
      "execution_count": null,
      "outputs": [
        {
          "output_type": "stream",
          "name": "stderr",
          "text": [
            "/usr/local/lib/python3.9/dist-packages/sklearn/metrics/_classification.py:1344: UndefinedMetricWarning: Precision is ill-defined and being set to 0.0 in labels with no predicted samples. Use `zero_division` parameter to control this behavior.\n",
            "  _warn_prf(average, modifier, msg_start, len(result))\n",
            "/usr/local/lib/python3.9/dist-packages/sklearn/metrics/_classification.py:1344: UndefinedMetricWarning: Recall is ill-defined and being set to 0.0 in labels with no true samples. Use `zero_division` parameter to control this behavior.\n",
            "  _warn_prf(average, modifier, msg_start, len(result))\n"
          ]
        },
        {
          "output_type": "execute_result",
          "data": {
            "text/plain": [
              "{'Accuracy': 0.8109352968823437,\n",
              " 'Precision': 0.8247276461013041,\n",
              " 'Recall': 0.8109352968823437,\n",
              " 'F1 Score': 0.817732553685974}"
            ]
          },
          "metadata": {},
          "execution_count": 77
        }
      ]
    },
    {
      "cell_type": "markdown",
      "source": [
        "# TF-IDF "
      ],
      "metadata": {
        "id": "_dqBiBbJfeyq"
      }
    },
    {
      "cell_type": "code",
      "source": [
        "path = '/content/drive/MyDrive/Capstone Data/Phase 2/final_data.pkl'\n",
        "train_df = pd.read_pickle(path, compression = 'gzip')\n",
        "\n",
        "features = ['sentence_count', 'word_count', 'unique_word_count', \n",
        "            'length', 'punctuation_count', 'upper_case_count', \n",
        "            'stopword_count', '#_count', 'unique_word_count_percent', \n",
        "            'Punctuation_percent', 'ip_count','link_count', \n",
        "            'article_id_count', 'username_count', 'clean_comment']\n",
        "\n",
        "target_cols = ['toxic', 'severe_toxic', 'obscene', 'threat',\n",
        "               'insult', 'identity_hate']\n",
        "train_df = train_df.dropna()\n",
        "\n",
        "# Seperating features and target variable\n",
        "x = train_df[features]\n",
        "y = train_df[target_cols]"
      ],
      "metadata": {
        "id": "WD3Q-7FpitQZ"
      },
      "execution_count": null,
      "outputs": []
    },
    {
      "cell_type": "code",
      "source": [
        "from sklearn.feature_extraction.text import TfidfVectorizer\n",
        "def tf_idf(X_train):\n",
        "  vectorizer = TfidfVectorizer(max_features = 500)\n",
        "  X_train_tfidf = vectorizer.fit_transform(X_train)\n",
        "  \n",
        "  return X_train_tfidf"
      ],
      "metadata": {
        "id": "hG4OIUCsjRGe"
      },
      "execution_count": null,
      "outputs": []
    },
    {
      "cell_type": "code",
      "source": [
        "tf_idf_data = tf_idf(train_df['clean_comment']).toarray()"
      ],
      "metadata": {
        "id": "N3T4o_kejRUP"
      },
      "execution_count": null,
      "outputs": []
    },
    {
      "cell_type": "code",
      "source": [
        "features.remove('clean_comment')"
      ],
      "metadata": {
        "id": "V5zR6EttkHil"
      },
      "execution_count": null,
      "outputs": []
    },
    {
      "cell_type": "code",
      "source": [
        "merged_x = np.hstack((tf_idf_data, np.array(x[features])))\n",
        "merged_x.shape"
      ],
      "metadata": {
        "colab": {
          "base_uri": "https://localhost:8080/"
        },
        "id": "A6Y2KL1fjtkq",
        "outputId": "e9b43117-0b0f-451c-c0b5-62930ceb92f7"
      },
      "execution_count": null,
      "outputs": [
        {
          "output_type": "execute_result",
          "data": {
            "text/plain": [
              "(159571, 514)"
            ]
          },
          "metadata": {},
          "execution_count": 93
        }
      ]
    },
    {
      "cell_type": "code",
      "source": [
        "# Converting combination of y label to single value by considering a unique label \n",
        "# value for each combination of the labels present\n",
        "unique_combinations = (y.drop_duplicates().reset_index(drop=True))\n",
        "print(\"Number of Unique Combinations: \", len(unique_combinations))\n",
        "unique_combinations = unique_combinations.reset_index()\n",
        "y = pd.merge(y, unique_combinations,  how='left', left_on =target_cols, right_on = target_cols)['index']"
      ],
      "metadata": {
        "colab": {
          "base_uri": "https://localhost:8080/"
        },
        "id": "cs15TiqOkZ77",
        "outputId": "08eb4f8b-858b-4710-f0b3-aa596ac3e470"
      },
      "execution_count": null,
      "outputs": [
        {
          "output_type": "stream",
          "name": "stdout",
          "text": [
            "Number of Unique Combinations:  41\n"
          ]
        }
      ]
    },
    {
      "cell_type": "code",
      "source": [
        "# Splitting the data into train and test dataset\n",
        "from sklearn.model_selection import train_test_split\n",
        "train_x, test_x, train_y, test_y = train_test_split(np.array(merged_x), np.array(y), \n",
        "                                            test_size = 0.2, random_state = 2)"
      ],
      "metadata": {
        "id": "OstS0ILSkEkM"
      },
      "execution_count": null,
      "outputs": []
    },
    {
      "cell_type": "markdown",
      "source": [
        "### Logistic Regression"
      ],
      "metadata": {
        "id": "jjgrTOpZkWna"
      }
    },
    {
      "cell_type": "code",
      "source": [
        "from sklearn.linear_model import LogisticRegression\n",
        "model = LogisticRegression(random_state=0).fit(train_x, train_y)\n",
        "pred = model.predict(test_x)\n",
        "res = evaluation_metrics(test_y,pred)\n",
        "res"
      ],
      "metadata": {
        "colab": {
          "base_uri": "https://localhost:8080/"
        },
        "id": "F-X_ODBDkF4K",
        "outputId": "67296409-c22d-4109-e71b-636830276407"
      },
      "execution_count": null,
      "outputs": [
        {
          "output_type": "stream",
          "name": "stderr",
          "text": [
            "/usr/local/lib/python3.9/dist-packages/sklearn/linear_model/_logistic.py:458: ConvergenceWarning: lbfgs failed to converge (status=1):\n",
            "STOP: TOTAL NO. of ITERATIONS REACHED LIMIT.\n",
            "\n",
            "Increase the number of iterations (max_iter) or scale the data as shown in:\n",
            "    https://scikit-learn.org/stable/modules/preprocessing.html\n",
            "Please also refer to the documentation for alternative solver options:\n",
            "    https://scikit-learn.org/stable/modules/linear_model.html#logistic-regression\n",
            "  n_iter_i = _check_optimize_result(\n",
            "/usr/local/lib/python3.9/dist-packages/sklearn/metrics/_classification.py:1344: UndefinedMetricWarning: Precision is ill-defined and being set to 0.0 in labels with no predicted samples. Use `zero_division` parameter to control this behavior.\n",
            "  _warn_prf(average, modifier, msg_start, len(result))\n"
          ]
        },
        {
          "output_type": "execute_result",
          "data": {
            "text/plain": [
              "{'Accuracy': 0.8973836753877487,\n",
              " 'Precision': 0.8182948313721226,\n",
              " 'Recall': 0.8973836753877487,\n",
              " 'F1 Score': 0.8505530362779073}"
            ]
          },
          "metadata": {},
          "execution_count": 99
        }
      ]
    },
    {
      "cell_type": "markdown",
      "source": [
        "### Gaussian Naive Bayes"
      ],
      "metadata": {
        "id": "ZVtw-HiIkgAY"
      }
    },
    {
      "cell_type": "code",
      "source": [
        "from sklearn.naive_bayes import GaussianNB\n",
        "\n",
        "clf = GaussianNB()\n",
        "clf.fit(train_x, train_y)\n",
        "pred = clf.predict(test_x)\n",
        "res = evaluation_metrics(test_y,pred)\n",
        "res"
      ],
      "metadata": {
        "colab": {
          "base_uri": "https://localhost:8080/"
        },
        "id": "oEikJwsHkju7",
        "outputId": "820e0a10-3058-4aa2-d8d5-14fdeb04d36d"
      },
      "execution_count": null,
      "outputs": [
        {
          "output_type": "stream",
          "name": "stderr",
          "text": [
            "/usr/local/lib/python3.9/dist-packages/sklearn/metrics/_classification.py:1344: UndefinedMetricWarning: Precision is ill-defined and being set to 0.0 in labels with no predicted samples. Use `zero_division` parameter to control this behavior.\n",
            "  _warn_prf(average, modifier, msg_start, len(result))\n",
            "/usr/local/lib/python3.9/dist-packages/sklearn/metrics/_classification.py:1344: UndefinedMetricWarning: Recall is ill-defined and being set to 0.0 in labels with no true samples. Use `zero_division` parameter to control this behavior.\n",
            "  _warn_prf(average, modifier, msg_start, len(result))\n"
          ]
        },
        {
          "output_type": "execute_result",
          "data": {
            "text/plain": [
              "{'Accuracy': 0.3551621494595018,\n",
              " 'Precision': 0.8912426506762338,\n",
              " 'Recall': 0.3551621494595018,\n",
              " 'F1 Score': 0.5054705323401433}"
            ]
          },
          "metadata": {},
          "execution_count": 100
        }
      ]
    },
    {
      "cell_type": "markdown",
      "source": [
        "### Decision tree"
      ],
      "metadata": {
        "id": "ktyVAnYbkmmm"
      }
    },
    {
      "cell_type": "code",
      "source": [
        "from warnings import resetwarnings\n",
        "from sklearn import tree\n",
        "\n",
        "clf = tree.DecisionTreeClassifier()\n",
        "clf.fit(train_x, train_y)\n",
        "pred = clf.predict(test_x)\n",
        "res = evaluation_metrics(test_y,pred)\n",
        "res"
      ],
      "metadata": {
        "colab": {
          "base_uri": "https://localhost:8080/"
        },
        "id": "F61HOcH0kmNT",
        "outputId": "48b6c92f-5edc-4048-d683-eada3621a82a"
      },
      "execution_count": null,
      "outputs": [
        {
          "output_type": "stream",
          "name": "stderr",
          "text": [
            "/usr/local/lib/python3.9/dist-packages/sklearn/metrics/_classification.py:1344: UndefinedMetricWarning: Precision is ill-defined and being set to 0.0 in labels with no predicted samples. Use `zero_division` parameter to control this behavior.\n",
            "  _warn_prf(average, modifier, msg_start, len(result))\n",
            "/usr/local/lib/python3.9/dist-packages/sklearn/metrics/_classification.py:1344: UndefinedMetricWarning: Recall is ill-defined and being set to 0.0 in labels with no true samples. Use `zero_division` parameter to control this behavior.\n",
            "  _warn_prf(average, modifier, msg_start, len(result))\n"
          ]
        },
        {
          "output_type": "execute_result",
          "data": {
            "text/plain": [
              "{'Accuracy': 0.8678677737740874,\n",
              " 'Precision': 0.8644416840367201,\n",
              " 'Recall': 0.8678677737740874,\n",
              " 'F1 Score': 0.8661031332625024}"
            ]
          },
          "metadata": {},
          "execution_count": 101
        }
      ]
    },
    {
      "cell_type": "markdown",
      "source": [
        " The model performed poorly for Naive Bayes. We see that Logistic Regression and Decision trees performed fairly well even in this scenario, however logically this approach might not always work well as this depends on the dataset being used and the relationship between the types of toxicities observed. For the dataset that we used, we had previously observed that there exists strong correlation between the toxicity types, thus it seems like our models seem to perform well as they are able to understand this correlation to make better predictions. "
      ],
      "metadata": {
        "id": "WSwPn0oQGFB7"
      }
    },
    {
      "cell_type": "code",
      "source": [],
      "metadata": {
        "id": "0Yde-cKSkq7x"
      },
      "execution_count": null,
      "outputs": []
    }
  ]
}